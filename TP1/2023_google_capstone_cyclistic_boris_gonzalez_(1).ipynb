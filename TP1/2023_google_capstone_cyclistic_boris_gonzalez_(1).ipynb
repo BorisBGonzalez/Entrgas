{
  "metadata": {
    "kernelspec": {
      "name": "ir",
      "display_name": "R",
      "language": "R"
    },
    "language_info": {
      "name": "R",
      "codemirror_mode": "r",
      "pygments_lexer": "r",
      "mimetype": "text/x-r-source",
      "file_extension": ".r",
      "version": "4.0.5"
    },
    "kaggle": {
      "accelerator": "none",
      "dataSources": [
        {
          "sourceId": 7993047,
          "sourceType": "datasetVersion",
          "datasetId": 4704908
        }
      ],
      "dockerImageVersionId": 30618,
      "isInternetEnabled": true,
      "language": "r",
      "sourceType": "notebook",
      "isGpuEnabled": false
    },
    "colab": {
      "provenance": [],
      "include_colab_link": true
    }
  },
  "nbformat_minor": 0,
  "nbformat": 4,
  "cells": [
    {
      "cell_type": "markdown",
      "metadata": {
        "id": "view-in-github",
        "colab_type": "text"
      },
      "source": [
        "<a href=\"https://colab.research.google.com/github/BorisBGonzalez/Entrgas/blob/main/TP1/2023_google_capstone_cyclistic_boris_gonzalez_(1).ipynb\" target=\"_parent\"><img src=\"https://colab.research.google.com/assets/colab-badge.svg\" alt=\"Open In Colab\"/></a>"
      ]
    },
    {
      "cell_type": "code",
      "source": [
        "# This R environment comes with many helpful analytics packages installed\n",
        "# It is defined by the kaggle/rstats Docker image: https://github.com/kaggle/docker-rstats\n",
        "# For example, here's a helpful package to load\n",
        "\n",
        "library(tidyverse) # metapackage of all tidyverse packages\n",
        "\n",
        "# Input data files are available in the read-only \"../input/\" directory\n",
        "# For example, running this (by clicking run or pressing Shift+Enter) will list all files under the input directory\n",
        "\n",
        "list.files(path = \"../input\")\n",
        "\n",
        "# You can write up to 20GB to the current directory (/kaggle/working/) that gets preserved as output when you create a version using \"Save & Run All\"\n",
        "# You can also write temporary files to /kaggle/temp/, but they won't be saved outside of the current session"
      ],
      "metadata": {
        "_uuid": "051d70d956493feee0c6d64651c6a088724dca2a",
        "_execution_state": "idle",
        "execution": {
          "iopub.status.busy": "2024-04-09T20:54:36.976984Z",
          "iopub.execute_input": "2024-04-09T20:54:36.978973Z",
          "iopub.status.idle": "2024-04-09T20:54:37.967375Z"
        },
        "trusted": true,
        "id": "z85hWxylsPgl"
      },
      "execution_count": null,
      "outputs": []
    },
    {
      "cell_type": "code",
      "source": [
        "options(repos = c(CRAN = \"http://cran.rstudio.com/\"))"
      ],
      "metadata": {
        "execution": {
          "iopub.status.busy": "2024-04-09T20:54:41.578168Z",
          "iopub.execute_input": "2024-04-09T20:54:41.579845Z",
          "iopub.status.idle": "2024-04-09T20:54:41.5947Z"
        },
        "trusted": true,
        "id": "V_4PzasqsPgp"
      },
      "execution_count": null,
      "outputs": []
    },
    {
      "cell_type": "code",
      "source": [
        "library(\"knitr\")\n",
        "library(\"dplyr\")\n",
        "library(\"readr\")\n",
        "library(\"forcats\")\n",
        "library(\"stringr\")\n",
        "library(\"ggplot2\")\n",
        "library(\"tibble\")\n",
        "library(\"lubridate\")\n",
        "library(\"tidyr\")\n",
        "library(\"purrr\")\n",
        "library(\"readxl\")\n",
        "library(\"scales\")"
      ],
      "metadata": {
        "execution": {
          "iopub.status.busy": "2024-04-09T20:54:49.549193Z",
          "iopub.execute_input": "2024-04-09T20:54:49.550975Z",
          "iopub.status.idle": "2024-04-09T20:54:49.587476Z"
        },
        "trusted": true,
        "id": "iAVXhYTIsPgq"
      },
      "execution_count": null,
      "outputs": []
    },
    {
      "cell_type": "markdown",
      "source": [
        "# Case Study Cyclistic Chicago 2023"
      ],
      "metadata": {
        "id": "Pn_i0tQEsPgr"
      }
    },
    {
      "cell_type": "markdown",
      "source": [
        "Author: \"Boris Gonzalez\"\n",
        "\n",
        "Date: \"2024-03-01\"\n",
        "\n",
        "Output: html_document: df_print: paged pdf_document: default"
      ],
      "metadata": {
        "id": "VtdaKQyysPgt"
      }
    },
    {
      "cell_type": "markdown",
      "source": [
        "**Resumen:**\n",
        "Este caso se centra en el proyecto propuesto por **Google Career Certificates** y tiene como objetivo analizar el comportamiento de los distintos tipos de usuarios de la empresa ficticia Cyclistic. El propósito es recopilar información relevante sobre los usuarios para una campaña de marketing dirigida a convertir a los **ciclistas ocasionales** en **miembros anuales**."
      ],
      "metadata": {
        "id": "Y35GA9bqsPgt"
      }
    },
    {
      "cell_type": "markdown",
      "source": [
        "# Introducción\n",
        "El **Estudio de Caso Cyclistic Chicago 2023** analiza y propone posibles soluciones a los desafíos que enfrenta la empresa ficticia de bicicletas compartidas en Chicago, Cyclistic. El objetivo principal es proporcionar información que permita optimizar los beneficios de la empresa. En este estudio, se abordan las preguntas clave de la empresa y se siguen los pasos del proceso de análisis de datos: **preguntar, preparar, procesar, analizar, compartir y actuar**.\n"
      ],
      "metadata": {
        "id": "pRdnbpoFsPgu"
      }
    },
    {
      "cell_type": "markdown",
      "source": [
        "<h1 id=\"Cyclistic\"\n",
        "    style=\"color: black;\n",
        "           font-size: 23px;\n",
        "           margin-left: -33px\">\n",
        "    &#160;&#160;&#160;&#160;&#160;Cyclistic\n",
        "    <a class=\"anchor-link\"\n",
        "       href=\"#Cyclistic\"\n",
        "       target=\"_self\"\n",
        "       rel=\" noreferrer nofollow\">\n",
        "        ¶\n",
        "    </a>\n",
        "</h1>\n",
        "\n",
        "En 2016, Cyclistic lanzó una exitosa oferta de bicicletas compartidas. Desde entonces, el programa ha crecido hasta alcanzar una **flota de 5,824 bicicletas georreferenciadas**, distribuidas en una **red de 692 estaciones en toda Chicago.** Las bicicletas pueden desbloquearse desde una estación y devolverse en cualquier otra estación del sistema en cualquier momento.\n",
        "\n",
        "Cyclistic se destaca por ofrecer una variedad de opciones, incluyendo **bicicletas reclinadas, triciclos manuales y bicicletas de carga.** Estas opciones buscan **brindar un uso más inclusivo de las bicicletas compartidas, especialmente para personas con discapacidad y ciclistas que no pueden utilizar una bicicleta estándar de dos ruedas.**\n",
        "\n",
        "La mayoría de los ciclistas eligen **las bicicletas tradicionales, mientras que alrededor del 8% de los ciclistas optan por las opciones asistidas.** Además, los usuarios de Cyclistic son más **propensos a utilizar la bicicleta para recreación, aunque aproximadamente el 30% también la utiliza para ir al trabajo a diario.**\n",
        "\n"
      ],
      "metadata": {
        "id": "AxexmpN3sPgv"
      }
    },
    {
      "cell_type": "markdown",
      "source": [
        "# Interesados Clave\n",
        "\n",
        "* Empresa Cyclistic\n",
        "* Ciclistas de la ciudad de Chicago\n",
        "* Los ejecutivos de Cyclistic (aprueban recomendaciones)\n",
        "* Lily Moreno directora de marketing (Solicitante del informe)\n",
        "* Equipo de analistas de marketing de Cyclistic"
      ],
      "metadata": {
        "id": "NoA8e6BKsPgv"
      }
    },
    {
      "cell_type": "markdown",
      "source": [
        "# Descripción general del problema empresarial\n",
        "Cyclistic Chicago se enfrenta al desafío de **optimizar el rendimiento global de la empresa**, considerando el sistema en su conjunto en lugar de partes aisladas.\n",
        "\n",
        "Para lograrlo, la estrategia inicial de marketing se centró en:\n",
        "\n",
        "**Construir un reconocimiento general de la marca y atraer a amplios segmentos de consumidores.**\n",
        "\n",
        "En la actualidad, la empresa ha determinado que **los miembros anuales son considerablemente más rentables que los ciclistas ocasionales**.\"\n",
        "\n"
      ],
      "metadata": {
        "id": "QNzxI_-SsPgv"
      }
    },
    {
      "cell_type": "markdown",
      "source": [
        "# Planteamiento de la gerencia de marketing\n",
        "Por lo tanto, la gerencia de marketing plantea\n",
        "\n",
        "**1.\tAumento de Miembros Anuales:** La gerencia considera que incrementar el número de miembros anuales es esencial para el crecimiento futuro de la organización.\n",
        "\n",
        "**2.\tEnfoque de Marketing Selectivo:** En vez de una campaña de marketing general para todos los clientes potenciales, sugieren una estrategia más dirigida, a los siclistas ocasionales para convertirlos en socios anuales **\"Existen oportunidades para convertir a los ciclistas ocasionales en miembros. Para lograrlo, es fundamental diseñar estrategias de marketing específicas orientadas a esta conversión.\"**"
      ],
      "metadata": {
        "id": "78VdzEs9sPgw"
      }
    },
    {
      "cell_type": "markdown",
      "source": [
        "# Requerimiento de la gerencia de Marketing\n",
        "La empresa Cyclistic, de la ciudad de Chicago en los EE.UU. en el año 2024, debe diseñar una nueva estrategia de marketing, para convertir a los ciclistas ocasionales en miembros anuales.\n",
        "\n",
        "Es necesario comprender las diferencias entre los miembros anuales y los ciclistas ocasionales. Además, se debe investigar por qué los ciclistas ocasionales considerarían adquirir una membresía y cómo los medios digitales pueden afectar las tácticas de marketing.\n",
        "\n",
        "Por lo tanto, ***se requiere un análisis exhaustivo de los datos históricos de viajes en bicicleta de Cyclistic para identificar tendencias y tomar decisiones informadas.***\n"
      ],
      "metadata": {
        "id": "sRpyAk0FsPgw"
      }
    },
    {
      "cell_type": "markdown",
      "source": [
        "<h1 id=\"Preguntas_marketing\"\n",
        "    style=\"color: black;\n",
        "           font-size: 23px;\n",
        "           margin-left: -33px\">\n",
        "    &#160;&#160;&#160;&#160;&#160;Preguntas que guiarán el futuro programa de marketing:\n",
        "    <a class=\"anchor-link\"\n",
        "       href=\"#Preguntas_marketing\"\n",
        "       target=\"_self\"\n",
        "       rel=\" noreferrer nofollow\">\n",
        "        ¶\n",
        "    </a>\n",
        "</h1>\n",
        "\n",
        "1.\t***¿En qué se diferencian los socios anuales y los ciclistas ocasionales con respecto al uso de las bicicletas de Cyclistic?***\n",
        "\n",
        "2.\t¿Por qué los ciclistas ocasionales comprarían membresías anuales de Cyclistic?\n",
        "\n",
        "3.\t¿Cómo puede usar Cyclistic los medios digitales para influenciar a los ciclistas ocasionales a convertirse en miembros?"
      ],
      "metadata": {
        "id": "HK_o7VXXsPgw"
      }
    },
    {
      "cell_type": "markdown",
      "source": [
        "# Alcance de la información requerida que se aborda en este informe\n",
        "\n",
        "Como **analista de datos júnior** que trabaja en el equipo de analistas de marketing **de Cyclistic**, una empresa de bicicletas compartidas de Chicago, se me encarga de:\n",
        "\n",
        "* ***Determinar las diferencias entre los Miembros Anuales y los Ciclistas Ocasionales en cuanto al uso de las bicicletas de Cyclistic.***\n",
        "\n",
        "\n"
      ],
      "metadata": {
        "id": "8iFOijo7sPgx"
      }
    },
    {
      "cell_type": "markdown",
      "source": [
        "# Glosario de términos:\n",
        "\n",
        "**Miembro anual:** Cliente que compra una membresía anual de Cyclistic.\n",
        "\n",
        "**Ciclista ocasional:** Cliente que compra un pase de un solo viaje o de un día completo de Cyclistic.\n",
        "\n",
        "**Pase de un solo viaje:** Permiso para usar una bicicleta de Cyclistic por un solo viaje.\n",
        "\n",
        "**Pase de un día completo:** Permiso para usar una bicicleta de Cyclistic durante un día completo.\n",
        "\n",
        "**Datos históricos de viajes en bicicleta:** Datos que registran cada viaje realizado en una bicicleta de Cyclistic.\n",
        "\n",
        "**Análisis de datos:** El proceso de limpieza, transformación y análisis de datos para obtener información útil.\n",
        "\n",
        "**Visualización de datos:** Representación gráfica de datos para facilitar su comprensión.\n"
      ],
      "metadata": {
        "id": "41_JaVTCsPgx"
      }
    },
    {
      "cell_type": "markdown",
      "source": [
        "------\n",
        "# Preparar\n",
        "\n",
        "<h1 id=\"instalar_paquetes\"\n",
        "    style=\"color: black;\n",
        "           font-size: 23px;\n",
        "           margin-left: -33px\">\n",
        "    &#160;&#160;&#160;&#160;&#160;Instalar Paquetes\n",
        "    <a class=\"anchor-link\"\n",
        "       href=\"#instalar_paquetes\"\n",
        "       target=\"_self\"\n",
        "       rel=\" noreferrer nofollow\">\n",
        "        ¶\n",
        "    </a>\n",
        "</h1>\n",
        "​"
      ],
      "metadata": {
        "id": "s5l0PadysPgy"
      }
    },
    {
      "cell_type": "code",
      "source": [
        "install.packages(\"knitr\")\n",
        "install.packages(\"dplyr\")\n",
        "install.packages(\"readr\")\n",
        "install.packages(\"forcats\")\n",
        "install.packages(\"stringr\")\n",
        "install.packages(\"ggplot2\")\n",
        "install.packages(\"tibble\")\n",
        "install.packages(\"lubridate\")\n",
        "install.packages(\"tidyr\")\n",
        "install.packages(\"purrr\")\n",
        "install.packages(\"readxl\")\n",
        "install.packages(\"scales\")"
      ],
      "metadata": {
        "execution": {
          "iopub.status.busy": "2024-04-09T20:54:56.70476Z",
          "iopub.execute_input": "2024-04-09T20:54:56.706599Z",
          "iopub.status.idle": "2024-04-09T20:57:40.760073Z"
        },
        "trusted": true,
        "id": "XZK9QhGzsPgy"
      },
      "execution_count": null,
      "outputs": []
    },
    {
      "cell_type": "markdown",
      "source": [
        "<h1 id=\"Importación_de_conjuntos_de_datos\"\n",
        "    style=\"color: black;\n",
        "           font-size: 23px;\n",
        "           margin-left: -33px\">\n",
        "    &#160;&#160;&#160;&#160;&#160;Importación de conjuntos de datos\n",
        "    <a class=\"anchor-link\"\n",
        "       href=\"#Importación_de_conjuntos_de_datos\"\n",
        "       target=\"_self\"\n",
        "       rel=\" noreferrer nofollow\">\n",
        "        ¶\n",
        "    </a>\n",
        "</h1>\n",
        "\n",
        "**Descripción del Conjunto de Datos:** Los datos comprenden un registro recopilado a lo largo del año 2023 de la empresa ficticia de bicicletas compartidas en Chicago, Cyclistic. Esta recopilación proporciona una imagen representativa de un período de tiempo que tiene en cuenta posibles fenómenos estacionales.\n",
        "\n",
        "**Origen de los Datos:** Los datos se obtuvieron de Divvy, el servicio de bicicletas compartidas operado por Lyft Bikes and Scooters, LLC en la ciudad de Chicago. El conjunto de datos Divvy Trips está disponible públicamente en este enlace.(https://divvy-tripdata.s3.amazonaws.com/index.html).\n",
        "\n",
        "**Características de la Licencia:** Los usuarios cuentan con una licencia no exclusiva, libre de regalías y limitada para acceder, reproducir, analizar, modificar y utilizar los datos con fines legales. El acuerdo de licencia permite a los usuarios acceder y utilizar ciertos datos del sistema Divvy, propiedad de la ciudad de Chicago y Lyft Bikes and Scooters, LLC, quienes pueden modificar o dejar de proporcionarlos en cualquier momento. Los datos están disponibles para el público bajo ciertas condiciones.\n",
        "\n",
        "**Conducta Prohibida:** La licencia no autoriza el uso ilegal de los datos ni la correlación de los mismos con información personal de los clientes. Además, no se permite el uso de marcas comerciales sin permiso.\n",
        "\n",
        "**Exención de Responsabilidad:** Los datos se proporcionan “tal cual” y bajo el riesgo del usuario. No existe garantía de disponibilidad, precisión o seguridad.\n",
        "\n",
        "\n",
        "\n"
      ],
      "metadata": {
        "id": "BN3kD70csPgz"
      }
    },
    {
      "cell_type": "code",
      "source": [
        "# Importar conjuntos de datos (datasets)\n",
        "data_01 <- read_csv('/kaggle/input/divyy-tripdata-2023/2023-01_divvy-tripdata.csv')\n",
        "data_02 <- read_csv('/kaggle/input/divyy-tripdata-2023/2023-02_divvy-tripdata.csv')\n",
        "data_03 <- read_csv('/kaggle/input/divyy-tripdata-2023/2023-03_divvy-tripdata.csv')\n",
        "data_04 <- read_csv('/kaggle/input/divyy-tripdata-2023/2023-04_divvy-tripdata.csv')\n",
        "data_05 <- read_csv('/kaggle/input/divyy-tripdata-2023/2023-05_divvy-tripdata.csv')\n",
        "data_06 <- read_csv('/kaggle/input/divyy-tripdata-2023/2023-06_divvy-tripdata.csv')\n",
        "data_07 <- read_csv('/kaggle/input/divyy-tripdata-2023/2023-07_divvy-tripdata.csv')\n",
        "data_08 <- read_csv('/kaggle/input/divyy-tripdata-2023/2023-08_divvy-tripdata.csv')\n",
        "data_09 <- read_csv('/kaggle/input/divyy-tripdata-2023/2023-09_divvy-tripdata.csv')\n",
        "data_10 <- read_csv('/kaggle/input/divyy-tripdata-2023/2023-10_divvy-tripdata.csv')\n",
        "data_11 <- read_csv('/kaggle/input/divyy-tripdata-2023/2023-11_divvy-tripdata.csv')\n",
        "data_12 <- read_csv('/kaggle/input/divyy-tripdata-2023/2023-12_divvy-tripdata.csv')"
      ],
      "metadata": {
        "execution": {
          "iopub.status.busy": "2024-04-09T20:57:47.460353Z",
          "iopub.execute_input": "2024-04-09T20:57:47.472475Z",
          "iopub.status.idle": "2024-04-09T20:58:26.650188Z"
        },
        "trusted": true,
        "id": "ErmVqMa8sPgz"
      },
      "execution_count": null,
      "outputs": []
    },
    {
      "cell_type": "markdown",
      "source": [
        "**Explicacion:** En la presente sección, importamos los conjuntos de datos correspondientes a los meses del año 2023 y asignamos a cada uno su respectiva variable."
      ],
      "metadata": {
        "id": "j0faaZsxsPgz"
      }
    },
    {
      "cell_type": "markdown",
      "source": [
        "<h1 id=\"Establecimiento_de_un_marco_de_datos_unificado\"\n",
        "    style=\"color: black;\n",
        "           font-size: 23px;\n",
        "           margin-left: -33px\">\n",
        "    &#160;&#160;&#160;&#160;&#160;Establecimiento de un marco de datos unificado\n",
        "    <a class=\"anchor-link\"\n",
        "       href=\"#Establecimiento_de_un_marco_de_datos_unificado\"\n",
        "       target=\"_self\"\n",
        "       rel=\" noreferrer nofollow\">\n",
        "        ¶\n",
        "    </a>\n",
        "</h1>"
      ],
      "metadata": {
        "id": "MIvdbGG0sPg0"
      }
    },
    {
      "cell_type": "code",
      "source": [
        "# Para crear un data frame nuevo\n",
        "marco_de_datos_unificado <- data.frame()\n",
        "\n",
        "# Para unir los distintos marcos de datos, en un marco de datos unificado.\n",
        "marco_de_datos_unificado <- bind_rows(data_01,data_02,data_03,data_04,data_05,data_06,data_07,data_08,data_09,data_10,data_11,data_12\n",
        ")\n",
        "# Para mostrar la estructura de un objeto o variable. Proporciona información sobre el tipo de datos, dimensiones y contenido del objeto.\n",
        "str(marco_de_datos_unificado)\n",
        "# Para obtener o establecer los nombres de las columnas de marco del datos unificado\n",
        "colnames(marco_de_datos_unificado)"
      ],
      "metadata": {
        "execution": {
          "iopub.status.busy": "2024-04-09T20:58:41.910419Z",
          "iopub.execute_input": "2024-04-09T20:58:41.912175Z",
          "iopub.status.idle": "2024-04-09T20:58:47.410978Z"
        },
        "trusted": true,
        "id": "stKWvnA3sPg0"
      },
      "execution_count": null,
      "outputs": []
    },
    {
      "cell_type": "code",
      "source": [
        "# Creando la columna month en el marco de datos unificado\n",
        "marco_de_datos_unificado$month <- format(as.Date(marco_de_datos_unificado$started_at), \"%b\")\n",
        "\n",
        "# Creando la columna year en el marco de datos unificado\n",
        "marco_de_datos_unificado$year <- format(as.Date(marco_de_datos_unificado$started_at), \"%Y\")\n",
        "\n",
        "# Creando la columna day_of_week en el marco de datos unificado\n",
        "marco_de_datos_unificado$day_of_week <- format(as.Date(marco_de_datos_unificado$started_at), \"%A\")\n",
        "\n",
        "# Creando la columna hour en el marco de datos unificado\n",
        "marco_de_datos_unificado <- marco_de_datos_unificado %>%\n",
        "    mutate(hour = strftime(marco_de_datos_unificado$ended_at, \"%H\"))\n",
        "\n",
        "# Creando una columna de ride_length (en minutos)\n",
        "marco_de_datos_unificado$ride_length <- (as.double(difftime(marco_de_datos_unificado$ended_at, marco_de_datos_unificado$started_at))) / 60\n",
        "\n",
        "# Ordenando la columna day_of_week\n",
        "marco_de_datos_unificado$day_of_week <- ordered(marco_de_datos_unificado$day_of_week, levels = c(\"Monday\", \"Tuesday\", \"Wednesday\", \"Thursday\", \"Friday\", \"Saturday\", \"Sunday\"))\n",
        "\n",
        "# Ordenando la columna column\n",
        "marco_de_datos_unificado$month <- ordered(marco_de_datos_unificado$month, levels = c(\"Jan\", \"Feb\", \"Mar\", \"Apr\", \"May\", \"Jun\", \"Jul\", \"Aug\", \"Sep\", \"Oct\", \"Nov\", \"Dec\"))"
      ],
      "metadata": {
        "execution": {
          "iopub.status.busy": "2024-04-09T20:59:32.376584Z",
          "iopub.execute_input": "2024-04-09T20:59:32.378583Z",
          "iopub.status.idle": "2024-04-09T20:59:44.652965Z"
        },
        "trusted": true,
        "id": "1FgCznDEsPg0"
      },
      "execution_count": null,
      "outputs": []
    },
    {
      "cell_type": "markdown",
      "source": [
        "----\n",
        "# Procesar\n",
        "\n",
        "<h1 id=\"Limpieza_de_Datos\"\n",
        "    style=\"color: black;\n",
        "           font-size: 23px;\n",
        "           margin-left: -33px\">\n",
        "    &#160;&#160;&#160;&#160;&#160;Limpieza de Datos\n",
        "    <a class=\"anchor-link\"\n",
        "       href=\"#Limpieza_de_Datos\"\n",
        "       target=\"_self\"\n",
        "       rel=\" noreferrer nofollow\">\n",
        "        ¶\n",
        "    </a>\n",
        "</h1>\n"
      ],
      "metadata": {
        "id": "pfNK316IsPg1"
      }
    },
    {
      "cell_type": "markdown",
      "source": [
        "De los 5,719,877 registros totales en el conjunto de datos **marco_de_datos_unificado**, no se encontraron registros duplicados durante el proceso de limpieza. Además, se identificaron 875,716 registros carentes de información en los campos siguientes:\n",
        "\n",
        "- **start_station_name** (nombre de la estación de inicio)\n",
        "- **start_station_id** (ID de la estación de inicio)\n",
        "- **end_station_name** (nombre de la estación de destino)\n",
        "- **end_station_id** (ID de la estación de destino)\n",
        "- **start_lat** (latitud de inicio)\n",
        "- **start_lng** (longitud de inicio)\n",
        "- **end_lat** (latitud de destino)\n",
        "- **end_lng** (longitud de destino)\n",
        "\n",
        "La proporción de estos errores en los registros relacionados con la geoposición representa el **15% del total de registros** en el conjunto de datos **marco_de_datos_unificado**. Durante el análisis de las diferencias entre los Miembros Anuales y los Ciclistas Ocasionales en el uso de las bicicletas de Cyclistic, se determinó que esta falla, de importancia secundaria, no debería ser excluida del conjunto de datos. En cambio, se consideró que debía ser tratada como un dato más, contribuyendo al análisis de la dimensión temporal de los registros del conjunto de datos. Es crucial mencionar que este error afecta únicamente al **15% del total de registros** y repercute exclusivamente en la dimensión espacial de los datos, una de las dimensiones examinadas en este estudio, aunque no la más relevante.\n",
        "\n",
        "\n",
        "\n",
        "**Premisa para la limpieza de datos**\n",
        "\"No todos los datos son iguales, así que no los trates a todos por igual. Por esa razon, Prepárate para que las cosas no salgan como las planeaste. Ten un plan B.  Ten presente, Evitar aplicar soluciones complicadas a problemas simples\"."
      ],
      "metadata": {
        "id": "T4xFTO98sPg1"
      }
    },
    {
      "cell_type": "markdown",
      "source": [
        "<h1 id=\"Filtrado_de_los_datos\"\n",
        "    style=\"color: black;\n",
        "           font-size: 23px;\n",
        "           margin-left: -33px\">\n",
        "    &#160;&#160;&#160;&#160;&#160;Filtrado de los datos\n",
        "    <a class=\"anchor-link\"\n",
        "       href=\"#Filtrado_de_los_datos\"\n",
        "       target=\"_self\"\n",
        "       rel=\" noreferrer nofollow\">\n",
        "        ¶\n",
        "    </a>\n",
        "</h1>"
      ],
      "metadata": {
        "id": "CEyaTnaWsPg1"
      }
    },
    {
      "cell_type": "code",
      "source": [
        "# Filtrar los datos para incluir solo los viajes de usuarios ocasionales\n",
        "datos_casuales <- marco_de_datos_unificado[marco_de_datos_unificado$member_casual == \"casual\",]\n",
        "\n",
        "# Crear una tabla de contingencia de viajes casuales por día de la semana y mes\n",
        "tabla <- table(datos_casuales$day_of_week, datos_casuales$month)\n",
        "\n",
        "# Agregar totales por fila y por columna\n",
        "tabla <- addmargins(tabla)\n",
        "\n",
        "# Convertir la tabla a un dataframe para facilitar la manipulación\n",
        "tabla_df <- as.data.frame(tabla)\n",
        "\n",
        "# Renombrar las columnas del dataframe\n",
        "names(tabla_df) <- c(\"Día de la semana\", \"Mes\", \"Número de viajes\")\n",
        "\n",
        "# Crear una tabla de contingencia de viajes casuales por día de la semana y mes\n",
        "tabla4 <- table(datos_casuales$month)\n",
        "\n",
        "# Agregar totales por fila y por columna\n",
        "tabla4 <- addmargins(tabla4)\n",
        "\n",
        "# Convertir la tabla a un dataframe para facilitar la manipulación\n",
        "tabla_df4 <- as.data.frame(tabla4)\n",
        "\n",
        "# Renombrar las columnas del dataframe\n",
        "names(tabla_df4) <- c(\"Mes\", \"Número de viajes\")\n",
        "\n",
        "# Calcular la duración media de los viajes por mes\n",
        "tabla6 <- aggregate(datos_casuales$ride_length ~ datos_casuales$month, FUN = mean)\n",
        "\n",
        "# Convertir la duración media de los viajes a formato de tiempo\n",
        "tabla6$ave_ride_leng_total <- sprintf(\"%02d:%02d\", tabla6[,2] %/% 1, round((tabla6[,2] %% 1)*60))\n",
        "\n",
        "# Mostrar la tabla casual\n",
        "print(tabla_df)\n",
        "\n",
        "# Mostrar la tabla casual mes\n",
        "print(tabla_df4)\n",
        "\n",
        "# Mostrar la tabla6\n",
        "print(tabla6)\n"
      ],
      "metadata": {
        "execution": {
          "iopub.status.busy": "2024-04-09T20:59:52.291172Z",
          "iopub.execute_input": "2024-04-09T20:59:52.293106Z",
          "iopub.status.idle": "2024-04-09T20:59:55.749382Z"
        },
        "trusted": true,
        "id": "g5TNKopOsPg2"
      },
      "execution_count": null,
      "outputs": []
    },
    {
      "cell_type": "code",
      "source": [
        "# Filtrar los datos para incluir solo los viajes de usuarios member\n",
        "datos_member <- marco_de_datos_unificado[marco_de_datos_unificado$member_casual == \"member\",]\n",
        "\n",
        "# Crear una tabla de contingencia de viajes member por día de la semana y mes\n",
        "tabla2 <- table(datos_member$day_of_week, datos_member$month)\n",
        "\n",
        "# Agregar totales por fila y por columna\n",
        "tabla2 <- addmargins(tabla2)\n",
        "\n",
        "# Convertir la tabla a un dataframe para facilitar la manipulación\n",
        "tabla_df2 <- as.data.frame(tabla2)\n",
        "\n",
        "# Renombrar las columnas del dataframe\n",
        "names(tabla_df2) <- c(\"Día de la semana\", \"Mes\", \"Número de viajes\")\n",
        "\n",
        "# Crear una tabla de contingencia de viajes casuales por día de la semana y mes\n",
        "tabla5 <- table(datos_member$month)\n",
        "\n",
        "# Agregar totales por fila y por columna\n",
        "tabla5 <- addmargins(tabla5)\n",
        "\n",
        "# Convertir la tabla a un dataframe para facilitar la manipulación\n",
        "tabla_df5 <- as.data.frame(tabla5)\n",
        "\n",
        "# Renombrar las columnas del dataframe\n",
        "names(tabla_df5) <- c(\"Mes\", \"Número de viajes\")\n",
        "\n",
        "\n",
        "# Calcular la duración media de los viajes por mes\n",
        "tabla7 <- aggregate(datos_member$ride_length ~ datos_member$month, FUN = mean)\n",
        "\n",
        "# Convertir la duración media de los viajes a formato de tiempo\n",
        "tabla7$ave_ride_leng_total <- sprintf(\"%02d:%02d\", tabla7[,2] %/% 1, round((tabla7[,2] %% 1)*60))\n",
        "\n",
        "# Mostrar la tabla member\n",
        "print(tabla_df2)\n",
        "\n",
        "# Mostrar la tabla member mes\n",
        "print(tabla_df5)\n",
        "\n",
        "# Mostrar la tabla7\n",
        "print(tabla7)\n"
      ],
      "metadata": {
        "execution": {
          "iopub.status.busy": "2024-04-09T21:00:08.200488Z",
          "iopub.execute_input": "2024-04-09T21:00:08.202256Z",
          "iopub.status.idle": "2024-04-09T21:00:11.861515Z"
        },
        "trusted": true,
        "id": "8P_XYzLusPg2"
      },
      "execution_count": null,
      "outputs": []
    },
    {
      "cell_type": "code",
      "source": [
        "# Filtrar los datos para incluir solo los viajes de usuarios\n",
        "datos_totales <- marco_de_datos_unificado\n",
        "\n",
        "# Crear una tabla de contingencia de viajes casuales por día de la semana y mes\n",
        "tabla3 <- table(datos_totales$day_of_week, datos_totales$month)\n",
        "\n",
        "# Agregar totales por fila y por columna\n",
        "tabla3 <- addmargins(tabla3)\n",
        "\n",
        "# Convertir la tabla a un dataframe para facilitar la manipulación\n",
        "tabla_df3 <- as.data.frame(tabla3)\n",
        "\n",
        "# Renombrar las columnas del dataframe\n",
        "names(tabla_df3) <- c(\"Día de la semana\", \"Mes\", \"Número de viajes\")\n",
        "\n",
        "# Filtrar los datos para incluir solo los viajes de usuarios\n",
        "datos_totales <- marco_de_datos_unificado\n",
        "\n",
        "# Calcular la duración media de los viajes por mes\n",
        "tabla8 <- aggregate(datos_totales$ride_length ~ datos_totales$month, FUN = mean)\n",
        "\n",
        "# Convertir la duración media de los viajes a formato de tiempo\n",
        "tabla8$ave_ride_leng_total <- sprintf(\"%02d:%02d\", tabla8[,2] %/% 1, round((tabla8[,2] %% 1)*60))\n",
        "\n",
        "# Mostrar la tabla usuarios\n",
        "print(tabla_df3)\n",
        "\n",
        "# Mostrar la tabla8\n",
        "print(tabla8)"
      ],
      "metadata": {
        "execution": {
          "iopub.status.busy": "2024-04-09T21:00:16.686197Z",
          "iopub.execute_input": "2024-04-09T21:00:16.688002Z",
          "iopub.status.idle": "2024-04-09T21:00:22.038969Z"
        },
        "trusted": true,
        "id": "d3b9Zq6dsPg3"
      },
      "execution_count": null,
      "outputs": []
    },
    {
      "cell_type": "markdown",
      "source": [
        "**Tabla para el análisis por estación** *(Debido a que el código aumenta el peso del cuaderno, se presenta aquí como texto.)*\n",
        "\n",
        "\n",
        "\n",
        "'#Carga el paquete magrittr (o dplyr, o tidyverse)\n",
        "\n",
        "library(magrittr)\n",
        "\n",
        "'#Agrega una columna para el tipo de usuario\n",
        "\n",
        "marco_de_datos_unificado <- marco_de_datos_unificado %>%\n",
        "  mutate(Tipo_de_usuario = ifelse(member_casual == \"member\", \"Miembro\", \"Casual\"))\n",
        "  \n",
        "'#Agrupación y conteo por estación y tipo de usuario\n",
        "\n",
        "viajes_por_estacion <- marco_de_datos_unificado %>%\n",
        "\n",
        "group_by(start_station_name, Tipo_de_usuario) %>%\n",
        "  \n",
        "  summarise(Numero_de_viajes = n()) %>%\n",
        "  \n",
        "  arrange(desc(Numero_de_viajes))\n",
        "\n",
        "'#Muestra la tabla resultante\n",
        "\n",
        "print(viajes_por_estacion)\n",
        "\n",
        "'#Impresión por estación\n",
        "\n",
        "print(viajes_por_estacion, n = nrow(viajes_por_estacion\n"
      ],
      "metadata": {
        "id": "_JCgRqWmsPg3"
      }
    },
    {
      "cell_type": "markdown",
      "source": [
        "-----\n",
        "# Analizar"
      ],
      "metadata": {
        "id": "3bjoJBOpsPg3"
      }
    },
    {
      "cell_type": "markdown",
      "source": [
        "<h1 id=\"Analisis_temporal_multivariable\"\n",
        "    style=\"color: black;\n",
        "           font-size: 23px;\n",
        "           margin-left: -33px\">\n",
        "    &#160;&#160;&#160;&#160;&#160;Analisis temporal multivariable\n",
        "    <a class=\"anchor-link\"\n",
        "       href=\"#Analisis_temporal_multivariable\"\n",
        "       target=\"_self\"\n",
        "       rel=\" noreferrer nofollow\">\n",
        "        ¶\n",
        "    </a>\n",
        "</h1>\n",
        "\n",
        "<h1 id=\"Viajes_de_ciclistas_ocasionales_dias_de_la_semamana_mes_del_año_2023\"\n",
        "    style=\"color: black;\n",
        "           font-size: 23px;\n",
        "           margin-left: -63px\">\n",
        "    &#160;&#160;&#160;&#160;&#160;&#160;&#160;&#160;&#160;&#160;Heatmaps: Viajes de ciclistas ocasionales dias de la semana / mes del año 2023\n",
        "    <a class=\"anchor-link\"\n",
        "       href=\"#Viajes_de_ciclistas_ocacionales_dias_de_la_semamana_mes_del_año_2023\"\n",
        "       target=\"_self\"\n",
        "       rel=\" noreferrer nofollow\">\n",
        "        ¶\n",
        "    </a>\n",
        "</h1>"
      ],
      "metadata": {
        "id": "3d-bd0a_sPg4"
      }
    },
    {
      "cell_type": "markdown",
      "source": [
        "![Imagen_2V3C.jpg](https://drive.google.com/uc?id=1BRkzzrzkLBFNxYiHeEOyqPejmDVa4vXG)"
      ],
      "metadata": {
        "id": "-NZnLAFCsPg4"
      }
    },
    {
      "cell_type": "markdown",
      "source": [
        "A partir de este gráfico sobre los ciclistas ocasionales, se examinan datos de múltiples variables. Las filas representan la cantidad de viajes de cada mes, y las columnas representan la cantidad de viajes por semana. Las celdas contienen datos numéricos sobre el número de viajes. **Este análisis nos permite identificar patrones, similitudes entre variables y detectar correlaciones**.\n",
        "\n",
        "Hemos deducido un patrón estacional en la cantidad de viajes de ciclistas ocasionales. Se observa un aumento en los días **sábado y domingo**, y se registra un pico significativo en el mes de **julio de 2023**. Por lo tanto, es probable que **el día con el mayor número de viajes de ciclistas ocasionales sea un sábado de julio**.\n",
        "\n",
        "Este comportamiento sugiere que **los ciclistas ocasionales utilizan los servicios de Cyclistic principalmente para actividades recreativas durante los fines de semana, con un incremento notable durante los meses de vacaciones de verano**.\n",
        "\n",
        "Esto nos lleva a explorar la correlación entre la temperatura (una de las características más significativas que cambian con las estaciones anuales) y el número de viajes de ciclistas ocasionales. Los resultados de esta correlación se presentarán más adelante.\n"
      ],
      "metadata": {
        "id": "_leA4sPasPg5"
      }
    },
    {
      "cell_type": "markdown",
      "source": [
        "<h1 id=\"Tabla_Viajes_de_ciclistas_ocasionales_dias_de_la_semamana_mes_del_año_2023\"\n",
        "    style=\"color: black;\n",
        "           font-size: 23px;\n",
        "           margin-left: -63px\">\n",
        "    &#160;&#160;&#160;&#160;&#160;&#160;&#160;&#160;&#160;&#160;Tabla soporte de los datos: Viajes de ciclistas ocasionales dias de la semana / mes del año 2023\n",
        "    <a class=\"anchor-link\"\n",
        "       href=\"#Tabla_Viajes_de_ciclistas_ocasionales_dias_de_la_semamana_mes_del_año_2023\"\n",
        "       target=\"_self\"\n",
        "       rel=\" noreferrer nofollow\">\n",
        "        ¶\n",
        "    </a>\n",
        "</h1>\n",
        "\n"
      ],
      "metadata": {
        "id": "jVeCO1Z8sPg5"
      }
    },
    {
      "cell_type": "markdown",
      "source": [
        "\n",
        "| mes | viajes casual domingo | viajes casual lunes | viajes casual martes | viajes casual miercoles | viajes casual jueves | viajes casual viernes | viajes casual sabado | viajes casual total |\n",
        "| ------------ | ------------ | ------------ | ------------ | ------------ | ------------ | ------------ | ------------ | ------------ |\n",
        "| ene-23 | 6377 | 5698 | 6904 | 5978 | 5022 | 5012 | 5017 | 40008 |\n",
        "| feb-23 | 9955 | 6788 | 6853 | 4577 | 3712 | 4250 | 6881 | 43016 |\n",
        "| mar-23 | 7386 | 6818 | 9219 | 11305 | 10125 | 9362 | 7986 | 62201 |\n",
        "| abr-23 | 18766 | 12119 | 15826 | 18370 | 23507 | 25922 | 32775 | 147285 |\n",
        "| may-23 | 42124 | 29541 | 33382 | 31393 | 28271 | 28712 | 40758 | 234181 |\n",
        "| jun-23 | 41624 | 32269 | 24955 | 33748 | 42917 | 56422 | 69295 | 301230 |\n",
        "| jul-23 | 59460 | 48837 | 41237 | 27998 | 38762 | 44522 | 70542 | 331358 |\n",
        "| ago-23 | 46362 | 26554 | 42121 | 45809 | 44856 | 49421 | 56007 | 311130 |\n",
        "| sep-23 | 44396 | 26116 | 22870 | 26181 | 28176 | 45488 | 68408 | 261635 |\n",
        "| oct-23 | 38078 | 24005 | 26837 | 23049 | 19616 | 20484 | 25002 | 177071 |\n",
        "| nov-23 | 13714 | 11038 | 10700 | 13778 | 18010 | 12819 | 18333 | 98392 |\n",
        "| dic-23 | 7476 | 5045 | 5320 | 6980 | 7638 | 9511 | 9702 | 51672 |\n",
        "| Total | 335718 | 234828 | 246224 | 249166 | 270612 | 311925 | 410706 | 2059179 |"
      ],
      "metadata": {
        "id": "fRe8TO5vsPg6"
      }
    },
    {
      "cell_type": "markdown",
      "source": [
        "<h1 id=\"Analisis_temporal_de_los_miembros_anuales\"\n",
        "    style=\"color: black;\n",
        "           font-size: 23px;\n",
        "           margin-left: -63px\">\n",
        "    &#160;&#160;&#160;&#160;&#160;&#160;&#160;&#160;&#160;&#160;Heatmaps: Viajes de miembros anuales dias de la semana / mes del año 2023\n",
        "    <a class=\"anchor-link\"\n",
        "       href=\"#Analisis_temporal_de_los_miembros_anuales\"\n",
        "       target=\"_self\"\n",
        "       rel=\" noreferrer nofollow\">\n",
        "        ¶\n",
        "    </a>\n",
        "</h1>"
      ],
      "metadata": {
        "id": "L0w52g31sPg6"
      }
    },
    {
      "cell_type": "markdown",
      "source": [
        "![Imagen_4V3V3C.jpg](https://drive.google.com/uc?id=1dNOxLcB-VmPfeHHoRp4FM8hUZ5wXKznz)"
      ],
      "metadata": {
        "id": "JuQFY0GIsPg7"
      }
    },
    {
      "cell_type": "markdown",
      "source": [
        "A partir de este gráfico sobre los miembros anuales, se examinan datos de múltiples variables. Las filas representan la cantidad de viajes de cada mes, y las columnas representan la cantidad de viajes por semana. Las celdas contienen datos numéricos sobre el número de viajes. **Este análisis nos permite identificar patrones, similitudes entre variables y detectar correlaciones**.\n",
        "\n",
        "Hemos deducido un patrón estacional en la cantidad de viajes de miembros anuales. Se observa un aumento en los días **de lunes a viernes**, y se registra un pico significativo en el mes de **agosto de 2023**. Por lo tanto, es probable que **el día con el mayor número de viajes de miembros anuales sea un martes de agosto**.\n",
        "\n",
        "Este comportamiento sugiere que **los miembros anuales utilizan los servicios de Cyclistic principalmente para actividades de transporte laboral durante los días de semana, con un incremento notable durante los meses de vacaciones de verano**.\n",
        "\n",
        "Esto nos lleva a explorar la correlación entre la temperatura (una de las características más significativas que cambian con las estaciones anuales) y el número de viajes de miembros anuales. Los resultados de esta correlación se presentarán más adelante.\"\n"
      ],
      "metadata": {
        "id": "zjSfgv_wsPg7"
      }
    },
    {
      "cell_type": "markdown",
      "source": [
        "<h1 id=\"Tabla_Viajes_de_miembros_anuales_dias_de_la_semamana_mes_del_año_2023\"\n",
        "    style=\"color: black;\n",
        "           font-size: 23px;\n",
        "           margin-left: -63px\">\n",
        "    &#160;&#160;&#160;&#160;&#160;&#160;&#160;&#160;&#160;&#160;Tabla soporte de los datos: Viajes de miembros anuales dias de la semana / mes del año 2023\n",
        "    <a class=\"anchor-link\"\n",
        "       href=\"#Tabla_Viajes_de_miembros_anuales_dias_de_la_semamana_mes_del_año_2023\"\n",
        "       target=\"_self\"\n",
        "       rel=\" noreferrer nofollow\">\n",
        "        ¶\n",
        "    </a>\n",
        "</h1>"
      ],
      "metadata": {
        "id": "ejRGTIPZsPg8"
      }
    },
    {
      "cell_type": "markdown",
      "source": [
        "| mes | viajes member domingo | viajes member lunes | viajes member martes | viajes member miercoles | viajes member jueves | viajes member viernes | viajes member sabado | viajes member total |\n",
        "| ------------ | ------------ | ------------ | ------------ | ------------ | ------------ | ------------ | ------------ | ------------ |\n",
        "| ene-23 | 15989 | 22649 | 29377 | 24743 | 22645 | 20109 | 14781 | 150293 |\n",
        "|feb-23|20337|24391|28631|21215|18140|17311|17404|147429|\n",
        "|mar-23|17189|25390|32128|39751|35902|29155|16962|196477|\n",
        "|abr-23|29548|33924|40492|43076|48318|43582|40365|279305|\n",
        "|may-23|41243|48896|67680|67517|55686|46302|43322|370646|\n",
        "|jun-23|42451|53016|51485|61089|74274|74736|61337|418388|\n",
        "|jul-23|57365|73698|60460|53888|65363|59504|66014|436292|\n",
        "|ago-23|48608|51302|82787|82641|77481|63878|53866|460563|\n",
        "|sep-23|45304|43545|53066|60817|61968|70642|69394|404736|\n",
        "|oct-23|46947|59180|68543|56046|50279|43338|35709|360042|\n",
        "|nov-23|25509|36988|38639|47895|50993|33720|30382|264126|\n",
        "|dic-23|18370|21597|23466|27781|28541|29322|23324|172401|\n",
        "|Total|408860|494576|576754|586459|589590|531599|472860|3660698|\n"
      ],
      "metadata": {
        "id": "vksuhO9zsPg8"
      }
    },
    {
      "cell_type": "markdown",
      "source": [
        "<h1 id=\"Viajes_de_clientes_dias_de_la_semamana_mes_del_año_2023\"\n",
        "    style=\"color: black;\n",
        "           font-size: 23px;\n",
        "           margin-left: -63px\">\n",
        "    &#160;&#160;&#160;&#160;&#160;&#160;&#160;&#160;&#160;&#160;Heatmaps: Viajes de clientes dias de la semana / mes del año 2023\n",
        "    <a class=\"anchor-link\"\n",
        "       href=\"#Viajes_de_clientes_dias_de_la_semamana_mes_del_año_2023\"\n",
        "       target=\"_self\"\n",
        "       rel=\" noreferrer nofollow\">\n",
        "        ¶\n",
        "    </a>\n",
        "</h1>\n",
        "\n"
      ],
      "metadata": {
        "id": "L2cv_bznsPg9"
      }
    },
    {
      "cell_type": "markdown",
      "source": [
        "\n",
        "\n",
        "![Imagen_6V2C.jpg](https://drive.google.com/uc?id=1rXpzQuQoDPmnXvzY61qHS9WrAZhWmU-3)"
      ],
      "metadata": {
        "id": "WFRZVB4isPg9"
      }
    },
    {
      "cell_type": "markdown",
      "source": [
        "En base al gráfico de datos de clientes, se han analizado múltiples variables. Las filas representan la cantidad de viajes por mes, mientras que las columnas indican la cantidad de viajes por semana. Las celdas contienen valores numéricos que representan el número de viajes. **Este análisis nos permite identificar patrones, similitudes entre variables y detectar posibles correlaciones**.\n",
        "\n",
        "Hemos observado un patrón estacional en la cantidad de viajes de los clientes. Se evidencia un aumento desde los días **martes hasta el sábado**, y se registra un pico significativo durante el mes de **septiembre de 2023**. Por lo tanto, es probable que **el día con la mayor cantidad de viajes de clientes sea un sábado de septiembre**. Este comportamiento sugiere que los clientes de Cyclistic, tanto casuales como miembros, **tienden a agruparse principalmente durante los meses más cálidos**.\n",
        "\n",
        "Dado este hallazgo, exploraremos la correlación entre la temperatura (una característica que varía significativamente con las estaciones del año) y el número de viajes de los clientes. Los resultados de esta correlación se presentarán más adelante."
      ],
      "metadata": {
        "id": "BsEMxsNssPg9"
      }
    },
    {
      "cell_type": "markdown",
      "source": [
        "<h1 id=\"Tabla_Viajes_de_clientes_dias_de_la_semamana_mes_del_año_2023\"\n",
        "    style=\"color: black;\n",
        "           font-size: 23px;\n",
        "           margin-left: -63px\">\n",
        "    &#160;&#160;&#160;&#160;&#160;&#160;&#160;&#160;&#160;&#160;Tabla soporte de los datos: Viajes de clientes dias de la semana / mes del año 2023\n",
        "    <a class=\"anchor-link\"\n",
        "       href=\"#Tabla_Viajes_de_clientes_dias_de_la_semamana_mes_del_año_2023\"\n",
        "       target=\"_self\"\n",
        "       rel=\" noreferrer nofollow\">\n",
        "        ¶\n",
        "    </a>\n",
        "</h1>"
      ],
      "metadata": {
        "id": "hVbM9DpjsPg-"
      }
    },
    {
      "cell_type": "markdown",
      "source": [
        "| mes | Numero de viajes domingo | Numero de viajes lunes | Numero de viajes martes | Numero de viajes miercoles | Numero de viajes jueves | Numero de viajes viernes | Numero de viajes sabado | Numero de viajes Total |\n",
        "| ------------ | ------------ | ------------ | ------------ | ------------ | ------------ | ------------ | ------------ | ------------ |\n",
        "| ene-23 | 22366 | 28347 | 36281 | 30721 | 27667 | 25121 | 19798 | 190301 |\n",
        "| feb-23 | 30292 | 31179 | 35484 | 25792 | 21852 | 21561 | 24285 | 190445 |\n",
        "| mar-23 | 24575 | 32208 | 41347 | 51056 | 46027 | 38517 | 24948 | 258678 |\n",
        "| abr-23 | 48314 | 46043 | 56318 | 61446 | 71825 | 69504 | 73140 | 426590 |\n",
        "| may-23 | 83367 | 78437 | 101062 | 98910 | 83957 | 75014 | 84080 | 604827 |\n",
        "| jun-23 | 84075 | 85285 | 76440 | 94837 | 117191 | 131158 | 130632 | 719618 |\n",
        "| jul-23 | 116825 | 122535 | 101697 | 81886 | 104125 | 104026 | 136556 | 767650 |\n",
        "| ago-23 | 94970 | 77856 | 124908 | 128450 | 122337 | 113299 | 109873 | 771693 |\n",
        "| sep-23 | 89700 | 69661 | 75936 | 86998 | 90144 | 116130 | 137802 | 666371 |\n",
        "| oct-23 | 85025 | 83185 | 95380 | 79095 | 69895 | 63822 | 60711 | 537113 |\n",
        "| nov-23 | 39223 | 48026 | 49339 | 61673 | 69003 | 46539 | 48715 | 362518 |\n",
        "| dic-23 | 25846 | 26642 | 28786 | 34761 | 36179 | 38833 | 33026 | 224073 |\n",
        "| Total | 744578 | 729404 | 822978 | 835625 | 860202 | 843524 | 883566 | 5719877 |\n"
      ],
      "metadata": {
        "id": "BIogbq2EsPg-"
      }
    },
    {
      "cell_type": "markdown",
      "source": [
        "-----\n",
        "<h1 id=\"comparativo_viajes_clientes_mensuales_y_el_promedio_mensual_de_temperatura\"\n",
        "    style=\"color: black;\n",
        "           font-size: 23px;\n",
        "           margin-left: -33px\">\n",
        "    &#160;&#160;&#160;&#160;&#160;Analisis de tendencias, de las variables: viajes de clientes - promedio mensual de temperatura en Chicago año 2023\n",
        "    <a class=\"anchor-link\"\n",
        "       href=\"#comparativo_viajes_clientes_mensuales_y_el_promedio_mensual_de_temperatura\"\n",
        "       target=\"_self\"\n",
        "       rel=\" noreferrer nofollow\">\n",
        "        ¶\n",
        "    </a>\n",
        "</h1>"
      ],
      "metadata": {
        "id": "O7Y_5DB4sPg-"
      }
    },
    {
      "cell_type": "markdown",
      "source": [
        "<h1 id=\"Tendencia_Temperatura_Promedio_y_Viajes_de_Clientes_en_Chicago_durante_el_2023\"\n",
        "    style=\"color: black;\n",
        "           font-size: 23px;\n",
        "           margin-left: -63px\">\n",
        "    &#160;&#160;&#160;&#160;&#160;&#160;&#160;&#160;&#160;&#160;Gráfico de Tendencia: Temperatura Promedio y Viajes de Clientes en Chicago durante el 2023\n",
        "    <a class=\"anchor-link\"\n",
        "       href=\"#Tendencia_Temperatura_Promedio_y_Viajes_de_Clientes_en_Chicago_durante_el_2023\"\n",
        "       target=\"_self\"\n",
        "       rel=\" noreferrer nofollow\">\n",
        "        ¶\n",
        "    </a>\n",
        "</h1>\n"
      ],
      "metadata": {
        "id": "Fy-W86GwsPg_"
      }
    },
    {
      "cell_type": "markdown",
      "source": [
        "\n",
        "![Imagen_8V1C.jpg](https://drive.google.com/uc?id=1dq1ODUQwo3eN1wCRS4ehjTdKrkXhgW-z)"
      ],
      "metadata": {
        "id": "8HDaF1AKsPg_"
      }
    },
    {
      "cell_type": "markdown",
      "source": [
        "En el presente gráfico se muestran valores cuantitativos de la **cantidad de viajes de los clientes** y **la temperatura promedio en la ciudad de Chicago** a lo largo de los meses del **año 2023**.\n",
        "\n",
        "Hemos identificado un comportamiento estacional, y la dirección de las líneas indica tendencias con pendientes ascendentes, que son muy similares entre sí. Esto nos revela dinámicas comparables entre ambas variables, lo que sugiere un cierto grado de correlación que se corrobora más adelante en el estudio."
      ],
      "metadata": {
        "id": "ZS_4P9DMsPg_"
      }
    },
    {
      "cell_type": "markdown",
      "source": [
        "-----\n",
        "<h1 id=\"Analisis_correlacional_entre_variables_numero_de_viajes\"\n",
        "    style=\"color: black;\n",
        "           font-size: 23px;\n",
        "           margin-left: -33px\">\n",
        "    &#160;&#160;&#160;&#160;&#160;Analisis correlacional entre variables (nuemro de viajes vs. temperatura)\n",
        "    <a class=\"anchor-link\"\n",
        "       href=\"#Analisis_correlacional_entre_variables_numero_de_viajes\"\n",
        "       target=\"_self\"\n",
        "       rel=\" noreferrer nofollow\">\n",
        "        ¶\n",
        "    </a>\n",
        "</h1>\n"
      ],
      "metadata": {
        "id": "i3IHwTcusPg_"
      }
    },
    {
      "cell_type": "markdown",
      "source": [
        "<h1 id=\"Viajes_de_ciclistas_ocasionales_vs_Temperatura_promedio_en_Chicago_durante_2023\"\n",
        "    style=\"color: black;\n",
        "           font-size: 23px;\n",
        "           margin-left: -63px\">\n",
        "    &#160;&#160;&#160;&#160;&#160;&#160;&#160;&#160;&#160;&#160;Gráfico de dispersión: Viajes de ciclistas ocasionales vs. Temperatura promedio en Chicago durante 2023\n",
        "    <a class=\"anchor-link\"\n",
        "       href=\"#Viajes_de_ciclistas_ocasionales_vs_Temperatura_promedio_en_Chicago_durante_2023\"\n",
        "       target=\"_self\"\n",
        "       rel=\" noreferrer nofollow\">\n",
        "        ¶\n",
        "    </a>\n",
        "</h1>"
      ],
      "metadata": {
        "id": "z2DIcEv-sPhA"
      }
    },
    {
      "cell_type": "markdown",
      "source": [
        "![Imagen_12V1VVC.jpg](https://drive.google.com/uc?id=1k-Zvk8Iq_shWpms-aDOUI-ViwfTyBd94)"
      ],
      "metadata": {
        "id": "uG7YA3lDsPhA"
      }
    },
    {
      "cell_type": "markdown",
      "source": [
        "<h1 id=\"Viajes_de_miembros_anuales_vs_Temperatura_promedio_en_Chicago_durante_2023\"\n",
        "    style=\"color: black;\n",
        "           font-size: 23px;\n",
        "           margin-left: -63px\">\n",
        "    &#160;&#160;&#160;&#160;&#160;&#160;&#160;&#160;&#160;&#160;Gráfico de dispersión: Viajes de miembros anuales vs. Temperatura promedio en Chicago durante 2023\n",
        "    <a class=\"anchor-link\"\n",
        "       href=\"#Viajes_de_miembros_anuales_vs_Temperatura_promedio_en_Chicago_durante_2023\"\n",
        "       target=\"_self\"\n",
        "       rel=\" noreferrer nofollow\">\n",
        "        ¶\n",
        "    </a>\n",
        "</h1>"
      ],
      "metadata": {
        "id": "DwbZfBpVsPhA"
      }
    },
    {
      "cell_type": "markdown",
      "source": [
        "![Imagen_13V1C.jpg](https://drive.google.com/uc?id=1P1SU1uMM42LwVLgeBC_xlcWWJk8GYOpo)"
      ],
      "metadata": {
        "id": "DN8AHs2vsPhB"
      }
    },
    {
      "cell_type": "markdown",
      "source": [
        "<h1 id=\"Viajes_de_clientes_vs_Temperatura_promedio_en_Chicago_durante_2023\"\n",
        "    style=\"color: black;\n",
        "           font-size: 23px;\n",
        "           margin-left: -63px\">\n",
        "    &#160;&#160;&#160;&#160;&#160;&#160;&#160;&#160;&#160;&#160;Gráfico de dispersión: Viajes de clientes vs. Temperatura promedio en Chicago durante 2023\n",
        "    <a class=\"anchor-link\"\n",
        "       href=\"#Viajes_de_clientes_vs_Temperatura_promedio_en_Chicago_durante_2023\"\n",
        "       target=\"_self\"\n",
        "       rel=\" noreferrer nofollow\">\n",
        "        ¶\n",
        "    </a>\n",
        "</h1>"
      ],
      "metadata": {
        "id": "7DWvVTVSsPhB"
      }
    },
    {
      "cell_type": "markdown",
      "source": [
        "![Imagen_14V1.jpg](https://drive.google.com/uc?id=19Q2z2WI2w7VnDCpfZoQQy-UBV6X6_Ix2)"
      ],
      "metadata": {
        "id": "NXzhIE1asPhC"
      }
    },
    {
      "cell_type": "markdown",
      "source": [
        "A partir de estos gráficos de dispersión en el conjunto de datos denominado marco_de_datos_unificado, se busca examinar si una variable impacta a la otra. Siempre recordamos que la **correlación no implica causalidad**. En estos gráficos se muestra la correlación entre los valores de dos variables: Viajes de ciclistas ocasionales vs. Promedio de temperatura, Viajes de miembros anuales vs. Promedio de temperatura y Viajes de clientes vs. Promedio de temperatura.\n",
        "\n",
        "1. La correlación en cada uno de estos gráficos es **positiva**, de tipo **lineal**, y presenta una fuerza de correlación **fuerte**.\n",
        "2. Los valores del coeficiente de determinación R-cuadrado (R²) indican qué tan cerca están los datos de la línea de regresión ajustada:\n",
        " - Para Viajes de ciclistas ocasionales vs. Promedio de temperatura: **R²= 0.9461**\n",
        " - Para Viajes de miembros anuales vs. Promedio de temperatura: **R²= 0.9303**\n",
        " - Para Viajes de clientes vs. Promedio de temperatura: **R²= 0.9481**\n",
        "\n",
        "Podemos observar que la variable con un menor coeficiente de determinación con respecto al promedio de temperatura es la de **Viajes de miembros anuales**. Esto sugiere una mayor independencia con respecto a la temperatura, lo que podría indicar un uso más **orientado al transporte laboral** en comparación con los **Viajes de ciclistas ocasionales**, que podrían estar más relacionados con un **uso recreativo**.\n",
        "\n"
      ],
      "metadata": {
        "id": "gOMWauzAsPhC"
      }
    },
    {
      "cell_type": "markdown",
      "source": [
        "---------\n",
        "<h1 id=\"Analisis_correlacional_entre_variables_viajes_promedio_vs_temperatura_promedio\"\n",
        "    style=\"color: black;\n",
        "           font-size: 23px;\n",
        "           margin-left: -33px\">\n",
        "    &#160;&#160;&#160;&#160;&#160;Analisis correlacional entre variables (longitud media  del recorrido vs. temperatura promedio)\n",
        "    <a class=\"anchor-link\"\n",
        "       href=\"#Analisis_correlacional_entre_variables_viajes_promedio_vs_temperatura_promedio\"\n",
        "       target=\"_self\"\n",
        "       rel=\" noreferrer nofollow\">\n",
        "        ¶\n",
        "    </a>\n",
        "</h1>"
      ],
      "metadata": {
        "id": "5zDqLO8gsPhD"
      }
    },
    {
      "cell_type": "markdown",
      "source": [
        "<h1 id=\"Viajes_promendio_de_ciclistas_ocasionales_vs_Temperatura_promedio_en_Chicago_durante_2023\"\n",
        "    style=\"color: black;\n",
        "           font-size: 23px;\n",
        "           margin-left: -63px\">\n",
        "    &#160;&#160;&#160;&#160;&#160;&#160;&#160;&#160;&#160;&#160;Gráfico de dispersión: longitud media del recorrido de ciclistas ocasionales vs. Temperatura promedio en Chicago durante 2023\n",
        "    <a class=\"anchor-link\"\n",
        "       href=\"#Viajes_promendio_de_ciclistas_ocasionales_vs_Temperatura_promedio_en_Chicago_durante_2023\"\n",
        "       target=\"_self\"\n",
        "       rel=\" noreferrer nofollow\">\n",
        "        ¶\n",
        "    </a>\n",
        "</h1>\n"
      ],
      "metadata": {
        "id": "vX5Re_JjsPhD"
      }
    },
    {
      "cell_type": "markdown",
      "source": [
        "![Imagen_9V1VC.jpg](https://drive.google.com/uc?id=1nRKEbSRBXPLP4QlDw47iwGUNi0gve4G-)"
      ],
      "metadata": {
        "id": "QFZ1KYSXsPhD"
      }
    },
    {
      "cell_type": "markdown",
      "source": [
        "<h1 id=\"Viajes_promendio_de_miembros_anuales_vs_Temperatura_promedio_en_Chicago_durante_2023\"\n",
        "    style=\"color: black;\n",
        "           font-size: 23px;\n",
        "           margin-left: -63px\">\n",
        "    &#160;&#160;&#160;&#160;&#160;&#160;&#160;&#160;&#160;&#160;Gráfico de dispersión: longitud media del recorrido de miembros anuales vs. Temperatura promedio en Chicago durante 2023\n",
        "    <a class=\"anchor-link\"\n",
        "       href=\"#Viajes_promendio_de_miembros_anuales_vs_Temperatura_promedio_en_Chicago_durante_2023\"\n",
        "       target=\"_self\"\n",
        "       rel=\" noreferrer nofollow\">\n",
        "        ¶\n",
        "    </a>\n",
        "</h1>\n"
      ],
      "metadata": {
        "id": "EnkLNLYTsPhD"
      }
    },
    {
      "cell_type": "markdown",
      "source": [
        "![Imagen_10V1C.jpg](https://drive.google.com/uc?id=1d9mhbonmJwTYxBl872b5OCVq6V0oFYf_)"
      ],
      "metadata": {
        "id": "P5F_J-KDsPhE"
      }
    },
    {
      "cell_type": "markdown",
      "source": [
        "<h1 id=\"Viajes_promendio_de_clientes_vs_Temperatura_promedio_en_Chicago_durante_2023\"\n",
        "    style=\"color: black;\n",
        "           font-size: 23px;\n",
        "           margin-left: -63px\">\n",
        "    &#160;&#160;&#160;&#160;&#160;&#160;&#160;&#160;&#160;&#160;Gráfico de dispersión: longitud media del recorrido de clientes vs. Temperatura promedio en Chicago durante 2023\n",
        "    <a class=\"anchor-link\"\n",
        "       href=\"#Viajes_promendio_de_clientes_vs_Temperatura_promedio_en_Chicago_durante_2023\"\n",
        "       target=\"_self\"\n",
        "       rel=\" noreferrer nofollow\">\n",
        "        ¶\n",
        "    </a>\n",
        "</h1>\n"
      ],
      "metadata": {
        "id": "iTl9zi_6sPhE"
      }
    },
    {
      "cell_type": "markdown",
      "source": [
        "![Imagen_11V1.jpg](https://drive.google.com/uc?id=1ERZeHviHRFRizbn6ibByhgG3j7R5buRw)\n",
        "\n"
      ],
      "metadata": {
        "id": "MtVW6HKYsPhE"
      }
    },
    {
      "cell_type": "markdown",
      "source": [
        "A partir de los gráficos de dispersión en el conjunto de datos denominado *marco_de_datos_unificado*, buscamos examinar si una variable impacta a la otra. Siempre recordamos que la **correlación no implica causalidad**. Estos gráficos muestran la correlación entre los valores de dos variables: la longitud media del recorrido de ciclistas ocasionales vs. el promedio de temperatura, la longitud media del recorrido de miembros anuales vs. el promedio de temperatura y la longitud media del recorrido de clientes vs. el promedio de temperatura.\n",
        "\n",
        "1. La correlación en cada uno de estos gráficos es **positiva** y de tipo **lineal**.\n",
        "2. Los valores del coeficiente de determinación **R-cuadrado (R²)** indican qué tan cerca están los datos de la línea de regresión ajustada:\n",
        "   - Para la longitud media del recorrido de ciclistas ocasionales vs. el promedio de temperatura: **R²= 0.6116** con una fuerza de correlación **media-débil**.\n",
        "   - Para la longitud media del recorrido de miembros anuales vs. el promedio de temperatura: **R²= 0.8815** con una fuerza de correlación **fuerte**.\n",
        "   - Para la longitud media del recorrido de clientes vs. el promedio de temperatura: **R²= 0.8442** con una fuerza de correlación **fuerte**.\n",
        "\n",
        "Observamos que la variable con un menor coeficiente de determinación con respecto al promedio de temperatura es la de **longitud media del recorrido de ciclistas ocasionales**. Esto sugiere una mayor independencia con respecto a la temperatura, lo que podría indicar un uso más **orientado al transporte recreativo**, donde la longitud media del recorrido es menos regular que la **longitud media del recorrido de miembros anuales**, que podrían estar más relacionados con un **transporte laboral**, independientemente de las condiciones de temperatura.\""
      ],
      "metadata": {
        "id": "mSZcZ4WwsPhF"
      }
    },
    {
      "cell_type": "markdown",
      "source": [
        "<h1 id=\"Tabla_de_soporte_de_datos_Viajes_Promedio_de_viajes_Temperatura_en_Chicago_durante_el_año_2023\"\n",
        "    style=\"color: black;\n",
        "           font-size: 23px;\n",
        "           margin-left: -33px\">\n",
        "    &#160;&#160;&#160;&#160;&#160;Tabla de soporte de datos: Viajes - Promedio de viajes - Temperatura en Chicago durante el año 2023\n",
        "    <a class=\"anchor-link\"\n",
        "       href=\"#Tabla_de_soporte_de_datos_Viajes_Promedio_de_viajes_Temperatura_en_Chicago_durante_el_año_2023\"\n",
        "       target=\"_self\"\n",
        "       rel=\" noreferrer nofollow\">\n",
        "        ¶\n",
        "    </a>\n",
        "</h1>\n"
      ],
      "metadata": {
        "id": "W2vwaipZsPhF"
      }
    },
    {
      "cell_type": "markdown",
      "source": [
        "| mes | Numero de viajes casual | % viajes Casual | ave_ride_leng_Casual | Numero de viajes member | % viajes member | ave_ride_leng_member | Numero de viajes total | ave_ride_leng_total | Max_°C _Chicago | min_°C _Chicago | Ave_°C _Chicago |\n",
        "| ------ | ------ | ------ | ------ | ------ | ------ | ------ | ------ | ------ | ------ | ------ | ------ |\n",
        "| ene-23 | 40008 | 21% | 22:55 | 150293 | 79% | 10:22 | 190301 | 13:00 | 11° | -16° | -3° |\n",
        "| feb-23 | 43016 | 23% | 23:12 | 147429 | 77% | 10:43 | 190445 | 13:32 | 14° | -17° | 1° |\n",
        "| mar-23 | 62201 | 24% | 21:25 | 196477 | 76% | 10:27 | 258678 | 13:05 | 21° | -10° | 7° |\n",
        "| abr-23 | 147285 | 35% | 27:40 | 279305 | 65% | 11:42 | 426590 | 17:13 | 29° | -1° | 10° |\n",
        "| may-23 | 234181 | 39% | 28:31 | 370646 | 61% | 13:02 | 604827 | 19:02 | 32° | 5° | 16° |\n",
        "| jun-23 | 301230 | 42% | 29:24 | 418388 | 58% | 13:12 | 719618 | 19:59 | 32° | 14° | 21° |\n",
        "| jul-23 | 331358 | 43% | 32:20 | 436292 | 57% | 13:41 | 767650 | 21:44 | 33° | 17° | 29° |\n",
        "| ago-23 | 311130 | 40% | 35:15 | 460563 | 60% | 13:46 | 771693 | 22:26 | 38° | 13° | 23° |\n",
        "| sep-23 | 261635 | 39% | 25:11 | 404736 | 61% | 13:09 | 666371 | 17:52 | 32° | 13° | 20° |\n",
        "| oct-23 | 177071 | 33% | 22:52 | 360042 | 67% | 12:09 | 537113 | 15:41 | 32° | -1° | 14° |\n",
        "| nov-23 | 98392 | 27% | 19:26 | 264126 | 73% | 11:24 | 362518 | 13:35 | 21° | -9° | 8° |\n",
        "| dic-23 | 51672 | 23% | 19:56 | 172401 | 77% | 11:27 | 224073 | 13:24 | 14° | -3° | 2° |\n",
        "| Promedio | 171598 | 32% | 25:41 | 305058 | 68% | 12:05 | 476656 | 16:43 | 26° | 0° | 12° |\n"
      ],
      "metadata": {
        "id": "P71iTCCgsPhG"
      }
    },
    {
      "cell_type": "markdown",
      "source": [
        "-------\n",
        "<h1 id=\"Análisis_Variables_Geoposicionales\"\n",
        "    style=\"color: black;\n",
        "           font-size: 23px;\n",
        "           margin-left: -33px\">\n",
        "    &#160;&#160;&#160;&#160;&#160;Análisis de Variables Geoposicionales\n",
        "    <a class=\"anchor-link\"\n",
        "       href=\"#Análisis_Variables_Geoposicionales\"\n",
        "       target=\"_self\"\n",
        "       rel=\" noreferrer nofollow\">\n",
        "        ¶\n",
        "    </a>\n",
        "</h1>"
      ],
      "metadata": {
        "id": "2cKHH5KFsPhG"
      }
    },
    {
      "cell_type": "markdown",
      "source": [
        "<h1 id=\"tasa_de_error_en_el_registro_de_posición_para_los_usuarios_de_cyclistic\"\n",
        "    style=\"color: black;\n",
        "           font-size: 23px;\n",
        "           margin-left: -63px\">\n",
        "    &#160;&#160;&#160;&#160;&#160;&#160;&#160;&#160;&#160;&#160;Gráfico de la Tasa de Error en el Registro de Posición para los Usuarios de Cyclistic\n",
        "    <a class=\"anchor-link\"\n",
        "       href=\"#tasa_de_error_en_el_registro_de_posición_para_los_usuarios_de_cyclistic\"\n",
        "       target=\"_self\"\n",
        "       rel=\" noreferrer nofollow\">\n",
        "        ¶\n",
        "    </a>\n",
        "</h1>"
      ],
      "metadata": {
        "id": "yxI-4Sg1sPhG"
      }
    },
    {
      "cell_type": "markdown",
      "source": [
        "![Imagen_24C.jpg](https://drive.google.com/uc?id=1OuRwKJtCdz0u6wN0878RLCDnP3xHsnsH)"
      ],
      "metadata": {
        "id": "NaVHMqkHsPhH"
      }
    },
    {
      "cell_type": "markdown",
      "source": [
        "El gráfico de **Tasa de Error en el Registro de Posición para los Usuarios de Cyclistic** indica que la proporción de errores en los registros de posición representa el **15% del total de registros** en el conjunto de datos **marco_de_datos_unificado**. Durante el proceso de limpieza de datos de *marco_de_datos_unificado*, al analizar las diferencias entre los socios anuales y los ciclistas ocasionales en cuanto al uso de las bicicletas de Cyclistic, esta falla, considerada de importancia secundaria, no se incluyó en la evaluación. Es crucial mencionar que este error afecta únicamente al **15% del total de registros** y repercute exclusivamente en la dimensión espacial de los datos, la cual es una de las dimensiones examinadas en este estudio, aunque no la más relevante."
      ],
      "metadata": {
        "id": "tBFqa2sgsPhH"
      }
    },
    {
      "cell_type": "markdown",
      "source": [
        "<h1 id=\"Analisis_por_nombre_de_estacion_de_salida_de_los_ciclistas_ocacionales\"\n",
        "    style=\"color: black;\n",
        "           font-size: 23px;\n",
        "           margin-left: -63px\">\n",
        "    &#160;&#160;&#160;&#160;&#160;&#160;&#160;&#160;&#160;&#160;Gráfico de histograma de Pareto de las estaciones de salida más frecuentadas por ciclistas ocasionales\n",
        "    <a class=\"anchor-link\"\n",
        "       href=\"#Analisis_por_nombre_de_estacion_de_salida_de_los_ciclistas_ocacionales\"\n",
        "       target=\"_self\"\n",
        "       rel=\" noreferrer nofollow\">\n",
        "        ¶\n",
        "    </a>\n",
        "</h1>"
      ],
      "metadata": {
        "id": "9UzvePw-sPhI"
      }
    },
    {
      "cell_type": "markdown",
      "source": [
        "![Imagen_19C.jpg](https://drive.google.com/uc?id=1XjQ_voM8xfIYRUWQJ6A-3htwPuTVM4jR)"
      ],
      "metadata": {
        "id": "jn4M_985sPhI"
      }
    },
    {
      "cell_type": "markdown",
      "source": [
        "En el año 2023, el **80,01%** de las salidas realizadas por los **clientes casuales** se concentraron en apenas el **16,41%** de las estaciones que registraron uso por parte de estos clientes. Este gráfico combina un **histograma**, que visualiza la **distribución de datos de los ciclistas ocasionales** a través de intervalos continuos, con un **gráfico de Pareto**. El gráfico de Pareto muestra los **factores más significativos** en un conjunto de datos de ciclistas ocasionales, basándose en el principio de Pareto, que sugiere que el **80% de los efectos provienen del 20% de las causas**. En resumen, este análisis nos permite identificar dónde se concentran los valores más relevantes.\n",
        "\n",
        "A continuación, se describen las estaciones más relevantes para los clientes casuales:"
      ],
      "metadata": {
        "id": "mUFQjtEDsPhI"
      }
    },
    {
      "cell_type": "markdown",
      "source": [
        "<h1 id=\"Analisis_por_nombre_de_estacion_de_salida_de_los_miembros_anuales\"\n",
        "    style=\"color: black;\n",
        "           font-size: 23px;\n",
        "           margin-left: -63px\">\n",
        "    &#160;&#160;&#160;&#160;&#160;&#160;&#160;&#160;&#160;&#160;Gráfico de histograma de Pareto de las estaciones de salida más frecuentadas por los miembros anuales\n",
        "    <a class=\"anchor-link\"\n",
        "       href=\"#Analisis_por_nombre_de_estacion_de_salida_de_los_miembros_anuales\"\n",
        "       target=\"_self\"\n",
        "       rel=\" noreferrer nofollow\">\n",
        "        ¶\n",
        "    </a>\n",
        "</h1>"
      ],
      "metadata": {
        "id": "79YA7MH0sPhJ"
      }
    },
    {
      "cell_type": "markdown",
      "source": [
        "![Imagen_21C.jpg](https://drive.google.com/uc?id=1KnYDkRrKCXCWYUhJg5H_gSv8ERkVUzJ0)"
      ],
      "metadata": {
        "id": "fRnbTzNysPhJ"
      }
    },
    {
      "cell_type": "markdown",
      "source": [
        "En el año 2023, el **80,09%** de las salidas realizadas por los **miembros anuales** se concentraron en apenas el **17,32%** de las estaciones que registraron uso por parte de estos clientes. Este gráfico combina un **histograma**, que visualiza la **distribución de datos de los miembros anuales** a través de intervalos continuos, con un **gráfico de Pareto**. El gráfico de Pareto muestra los **factores más significativos** en un conjunto de datos de ciclistas ocasionales, basándose en el principio de Pareto, que sugiere que el **80% de los efectos provienen del 20% de las causas**. En resumen, este análisis nos permite identificar dónde se concentran los valores más relevantes.\n",
        "\n",
        "A continuación, se describen las estaciones más relevantes para los miembros anuales:"
      ],
      "metadata": {
        "id": "DlpJnyEhsPhJ"
      }
    },
    {
      "cell_type": "markdown",
      "source": [
        "<h1 id=\"Tabla_Estaciones_de_salida_más_frecuentadas_por_ciclistas_ocasionales\"\n",
        "    style=\"color: black;\n",
        "           font-size: 23px;\n",
        "           margin-left: -63px\">\n",
        "    &#160;&#160;&#160;&#160;&#160;&#160;&#160;&#160;&#160;&#160;Tabla soporte de los datos: Estaciones de salida más frecuentadas por ciclistas ocasionales\n",
        "    <a class=\"anchor-link\"\n",
        "       href=\"#Tabla_Estaciones_de_salida_más_frecuentadas_por_ciclistas_ocasionales\"\n",
        "       target=\"_self\"\n",
        "       rel=\" noreferrer nofollow\">\n",
        "        ¶\n",
        "    </a>\n",
        "</h1>"
      ],
      "metadata": {
        "id": "gob43HfvsPhK"
      }
    },
    {
      "cell_type": "markdown",
      "source": [
        " start_station_name | Tipo_de_usuario | Numero_de_viajes | %\n",
        " ------------ | ------------ | ------------ | ------------\n",
        "StreeterDr&GrandAve | Casual | 46030 | 2,66%\n",
        "DuSableLakeShoreDr&MonroeSt | Casual | 30487 | 1,76%\n",
        "MichiganAve&OakSt | Casual | 22664 | 1,31%\n",
        "DuSableLakeShoreDr&NorthBlvd | Casual | 20338 | 1,17%\n",
        "MillenniumPark | Casual | 20228 | 1,17%\n",
        "SheddAquarium | Casual | 17783 | 1,03%\n",
        "TheaterontheLake | Casual | 16359 | 0,94%\n",
        "DusableHarbor | Casual | 15491 | 0,89%\n",
        "WellsSt&ConcordLn | Casual | 12171 | 0,70%\n",
        "MontroseHarbor | Casual | 11987 | 0,69%\n",
        "AdlerPlanetarium | Casual | 11912 | 0,69%\n",
        "IndianaAve&RooseveltRd | Casual | 11712 | 0,68%\n",
        "ClarkSt&ArmitageAve | Casual | 11115 | 0,64%\n",
        "MichiganAve&8thSt | Casual | 10902 | 0,63%\n",
        "ClarkSt&LincolnAve | Casual | 10886 | 0,63%\n",
        "ClarkSt&ElmSt | Casual | 10804 | 0,62%\n",
        "WiltonAve&BelmontAve | Casual | 10643 | 0,61%\n",
        "WellsSt&ElmSt | Casual | 10007 | 0,58%\n",
        "WabashAve&GrandAve | Casual | 9768 | 0,56%\n",
        "ClarkSt&NewportSt | Casual | 9729 | 0,56%\n",
        "Broadway&BarryAve | Casual | 9526 | 0,55%\n",
        "MichiganAve&WashingtonSt | Casual | 9336 | 0,54%\n",
        "DuSableLakeShoreDr&DiverseyPkwy | Casual | 9231 | 0,53%\n",
        "NewSt&IllinoisSt | Casual | 9167 | 0,53%\n",
        "DuSableLakeShoreDr&BelmontAve | Casual | 9064 | 0,52%\n",
        "LaSalleSt&IllinoisSt | Casual | 9034 | 0,52%\n",
        "McClurgCt&OhioSt | Casual | 8862 | 0,51%\n",
        "KingsburySt&KinzieSt | Casual | 8794 | 0,51%\n",
        "MichiganAve&LakeSt | Casual | 8561 | 0,49%\n",
        "ClarkSt&WrightwoodAve | Casual | 8551 | 0,49%\n",
        "SheffieldAve&FullertonAve | Casual | 8434 | 0,49%\n",
        "FieldMuseum | Casual | 8409 | 0,49%\n",
        "SheffieldAve&WavelandAve | Casual | 8391 | 0,48%\n",
        "LarrabeeSt&WebsterAve | Casual | 8296 | 0,48%\n",
        "LakeviewAve&FullertonPkwy | Casual | 8181 | 0,47%\n",
        "HalstedSt&RoscoeSt | Casual | 7954 | 0,46%\n",
        "WellsSt&HuronSt | Casual | 7933 | 0,46%\n",
        "DuSableLakeShoreDr&WellingtonAve | Casual | 7849 | 0,45%\n",
        "WellsSt&EvergreenAve | Casual | 7844 | 0,45%\n",
        "Broadway&CorneliaAve | Casual | 7799 | 0,45%\n",
        "LincolnAve&FullertonAve | Casual | 7788 | 0,45%\n",
        "WellsSt&HubbardSt | Casual | 7540 | 0,44%\n",
        "DearbornSt&ErieSt | Casual | 7472 | 0,43%\n",
        "ColumbusDr&RandolphSt | Casual | 7443 | 0,43%\n",
        "StateSt&ChicagoAve | Casual | 7304 | 0,42%\n",
        "AshlandAve&DivisionSt | Casual | 7240 | 0,42%\n",
        "SouthportAve&RoscoeSt | Casual | 7206 | 0,42%\n",
        "DesplainesSt&KinzieSt | Casual | 7185 | 0,41%\n",
        "LincolnParkConservatory | Casual | 7133 | 0,41%\n",
        "PineGroveAve&WavelandAve | Casual | 7110 | 0,41%\n",
        "ClarkSt&DrummondPl | Casual | 7094 | 0,41%\n",
        "HalstedSt&WrightwoodAve | Casual | 7063 | 0,41%\n",
        "EllisAve&60thSt | Casual | 7026 | 0,41%\n",
        "DamenAve&PierceAve | Casual | 7015 | 0,40%\n",
        "Broadway&WavelandAve | Casual | 6899 | 0,40%\n",
        "WabashAve&RooseveltRd | Casual | 6899 | 0,40%\n",
        "MichiganAve&JacksonBlvd | Casual | 6846 | 0,40%\n",
        "SheffieldAve&WrightwoodAve | Casual | 6810 | 0,39%\n",
        "SouthportAve&WavelandAve | Casual | 6708 | 0,39%\n",
        "DearbornPkwy&DelawarePl | Casual | 6653 | 0,38%\n",
        "UniversityAve&57thSt | Casual | 6609 | 0,38%\n",
        "SheffieldAve&WebsterAve | Casual | 6561 | 0,38%\n",
        "HalstedSt&ClybournAve | Casual | 6544 | 0,38%\n",
        "FairbanksCt&GrandAve | Casual | 6503 | 0,38%\n",
        "ClintonSt&WashingtonBlvd | Casual | 6499 | 0,38%\n",
        "StateSt&RandolphSt | Casual | 6369 | 0,37%\n",
        "St.ClairSt&ErieSt | Casual | 6346 | 0,37%\n",
        "WiltonAve&DiverseyPkwy | Casual | 6253 | 0,36%\n",
        "ClintonSt&MadisonSt | Casual | 6244 | 0,36%\n",
        "StocktonDr&WrightwoodAve | Casual | 6141 | 0,35%\n",
        "SheffieldAve&WellingtonAve | Casual | 6021 | 0,35%\n",
        "ClarkSt&SchillerSt | Casual | 5973 | 0,34%\n",
        "ClarkSt&GraceSt | Casual | 5915 | 0,34%\n",
        "ClarkSt&WellingtonAve | Casual | 5914 | 0,34%\n",
        "WabashAve&WackerPl | Casual | 5891 | 0,34%\n",
        "Broadway&BelmontAve | Casual | 5855 | 0,34%\n",
        "SheridanRd&IrvingParkRd | Casual | 5843 | 0,34%\n",
        "CityfrontPlazaDr&PioneerCt | Casual | 5733 | 0,33%\n",
        "MiesvanderRoheWay&ChestnutSt | Casual | 5686 | 0,33%\n",
        "OrleansSt&MerchandiseMartPlaza | Casual | 5680 | 0,33%\n",
        "GreenSt&MadisonSt | Casual | 5641 | 0,33%\n",
        "RacineAve&BelmontAve | Casual | 5636 | 0,33%\n",
        "DaleyCenterPlaza | Casual | 5635 | 0,33%\n",
        "HalstedSt&DickensAve | Casual | 5634 | 0,33%\n",
        "MilwaukeeAve&GrandAve | Casual | 5613 | 0,32%\n",
        "CanalSt&AdamsSt | Casual | 5608 | 0,32%\n",
        "FranklinSt&JacksonBlvd | Casual | 5587 | 0,32%\n",
        "ClintonSt&JacksonBlvd | Casual | 5558 | 0,32%\n",
        "LakefrontTrail&BrynMawrAve | Casual | 5556 | 0,32%\n",
        "ClarkSt&WinnemacAve | Casual | 5508 | 0,32%\n",
        "KedzieAve&MilwaukeeAve | Casual | 5501 | 0,32%\n",
        "PineGroveAve&IrvingParkRd | Casual | 5421 | 0,31%\n",
        "RushSt&CedarSt | Casual | 5401 | 0,31%\n",
        "HalstedSt&FultonSt | Casual | 5384 | 0,31%\n",
        "FederalSt&PolkSt | Casual | 5376 | 0,31%\n",
        "CanalSt&MadisonSt | Casual | 5359 | 0,31%\n",
        "RavenswoodAve&LawrenceAve | Casual | 5291 | 0,31%\n",
        "SedgwickSt&NorthAve | Casual | 5246 | 0,30%\n",
        "EllisAve&55thSt | Casual | 5235 | 0,30%\n",
        "DearbornSt&MonroeSt | Casual | 5199 | 0,30%\n",
        "StateSt&KinzieSt | Casual | 5199 | 0,30%\n",
        "FieldBlvd&SouthWaterSt | Casual | 5195 | 0,30%\n",
        "Broadway&SheridanRd | Casual | 5173 | 0,30%\n",
        "ClarkSt&NorthAve | Casual | 5161 | 0,30%\n",
        "ClarkSt&LakeSt | Casual | 5118 | 0,30%\n",
        "WabashAve&9thSt | Casual | 5067 | 0,29%\n",
        "SedgwickSt&WebsterAve | Casual | 5061 | 0,29%\n",
        "KimbarkAve&53rdSt | Casual | 5029 | 0,29%\n",
        "McCormickPlace | Casual | 5017 | 0,29%\n",
        "CaliforniaAve&MilwaukeeAve | Casual | 4993 | 0,29%\n",
        "ClintonSt&LakeSt | Casual | 4925 | 0,28%\n",
        "SouthportAve&WellingtonAve | Casual | 4904 | 0,28%\n",
        "KingsburySt&ErieSt | Casual | 4779 | 0,28%\n",
        "LarrabeeSt&KingsburySt | Casual | 4778 | 0,28%\n",
        "LincolnAve&DiverseyPkwy | Casual | 4750 | 0,27%\n",
        "MichiganAve&PearsonSt | Casual | 4712 | 0,27%\n",
        "ShoreDr&55thSt | Casual | 4691 | 0,27%\n",
        "RushSt&SuperiorSt | Casual | 4645 | 0,27%\n",
        "McClurgCt&ErieSt | Casual | 4620 | 0,27%\n",
        "SheridanRd&MontroseAve | Casual | 4605 | 0,27%\n",
        "LakefrontTrail&WilsonAve | Casual | 4592 | 0,26%\n",
        "FranklinSt&IllinoisSt | Casual | 4566 | 0,26%\n",
        "FranklinSt&LakeSt | Casual | 4501 | 0,26%\n",
        "WoodSt&MilwaukeeAve | Casual | 4436 | 0,26%\n",
        "DamenAve&CortlandSt | Casual | 4420 | 0,26%\n",
        "RacineAve&FullertonAve | Casual | 4420 | 0,26%\n",
        "MichiganAve&MadisonSt | Casual | 4414 | 0,25%\n",
        "ClarendonAve&GordonTer | Casual | 4363 | 0,25%\n",
        "MiesvanderRoheWay&ChicagoAve | Casual | 4350 | 0,25%\n",
        "BurlingSt&DiverseyPkwy | Casual | 4337 | 0,25%\n",
        "OgdenAve&ChicagoAve | Casual | 4324 | 0,25%\n",
        "MichiganAve&IdaBWellsDr | Casual | 4292 | 0,25%\n",
        "ClarkSt&RandolphSt | Casual | 4286 | 0,25%\n",
        "ClarkSt&BerwynAve | Casual | 4262 | 0,25%\n",
        "HonoreSt&DivisionSt | Casual | 4252 | 0,25%\n",
        "RitchieCt&BanksSt | Casual | 4247 | 0,25%\n",
        "SouthportAve&WrightwoodAve | Casual | 4247 | 0,25%\n",
        "PeoriaSt&JacksonBlvd | Casual | 4229 | 0,24%\n",
        "LaSalleDr&HuronSt | Casual | 4164 | 0,24%\n",
        "BurnhamHarbor | Casual | 4143 | 0,24%\n",
        "FranklinSt&ChicagoAve | Casual | 4136 | 0,24%\n",
        "DaytonSt&NorthAve | Casual | 4117 | 0,24%\n",
        "MilwaukeeAve&WabansiaAve | Casual | 4115 | 0,24%\n",
        "SouthportAve&BelmontAve | Casual | 4107 | 0,24%\n",
        "GreenviewAve&FullertonAve | Casual | 4067 | 0,23%\n",
        "SedgwickSt&HuronSt | Casual | 4064 | 0,23%\n",
        "MichiganAve&14thSt | Casual | 4035 | 0,23%\n",
        "SheffieldAve&KingsburySt | Casual | 4025 | 0,23%\n",
        "Broadway&WilsonAve | Casual | 4009 | 0,23%\n",
        "ClarendonAve&JuniorTer | Casual | 3914 | 0,23%\n",
        "CanalSt&JacksonBlvd | Casual | 3855 | 0,22%\n",
        "AberdeenSt&JacksonBlvd | Casual | 3830 | 0,22%\n",
        "ClarkSt&ChicagoAve | Casual | 3767 | 0,22%\n",
        "StetsonAve&SouthWaterSt | Casual | 3763 | 0,22%\n",
        "LaSalleSt&JacksonBlvd | Casual | 3743 | 0,22%\n",
        "CanalSt&MonroeSt | Casual | 3738 | 0,22%\n",
        "WellsSt&WaltonSt | Casual | 3729 | 0,22%\n",
        "WesternAve&WinnebagoAve | Casual | 3693 | 0,21%\n",
        "SangamonSt&LakeSt | Casual | 3688 | 0,21%\n",
        "CannonDr&FullertonAve | Casual | 3670 | 0,21%\n",
        "CarpenterSt&HuronSt | Casual | 3593 | 0,21%\n",
        "CalumetAve&18thSt | Casual | 3576 | 0,21%\n",
        "WabashAve&AdamsSt | Casual | 3523 | 0,20%\n",
        "WoodlawnAve&55thSt | Casual | 3511 | 0,20%\n",
        "CliftonAve&ArmitageAve | Casual | 3510 | 0,20%\n",
        "StateSt&VanBurenSt | Casual | 3475 | 0,20%\n",
        "ClarkSt&LelandAve | Casual | 3472 | 0,20%\n",
        "StateSt&HarrisonSt | Casual | 3467 | 0,20%\n",
        "LarrabeeSt&DivisionSt | Casual | 3443 | 0,20%\n",
        "AberdeenSt&RandolphSt | Casual | 3441 | 0,20%\n",
        "ElstonAve&CortlandSt | Casual | 3395 | 0,20%\n",
        "RushSt&HubbardSt | Casual | 3388 | 0,20%\n",
        "WellsSt&PolkSt | Casual | 3374 | 0,19%\n",
        "DesplainesSt&RandolphSt | Casual | 3369 | 0,19%\n",
        "BuckinghamFountain | Casual | 3364 | 0,19%\n",
        "FranklinSt&MonroeSt | Casual | 3355 | 0,19%\n",
        "MuseumofScienceandIndustry | Casual | 3354 | 0,19%\n",
        "DesplainesSt&JacksonBlvd | Casual | 3325 | 0,19%\n",
        "SheridanRd&BuenaAve | Casual | 3267 | 0,19%\n",
        "900WHarrisonSt | Casual | 3247 | 0,19%\n",
        "HalstedSt&WillowSt | Casual | 3197 | 0,18%\n",
        "BissellSt&ArmitageAve* | Casual | 3143 | 0,18%\n",
        "MichiganAve&18thSt | Casual | 3136 | 0,18%\n",
        "HalstedSt&MaxwellSt | Casual | 3135 | 0,18%\n",
        "DamenAve&ChicagoAve | Casual | 3116 | 0,18%\n",
        "WabashAve&16thSt | Casual | 3029 | 0,17%\n",
        "SheffieldAve&WillowSt | Casual | 3011 | 0,17%\n",
        "FranklinSt&AdamsSt(Temp) | Casual | 2995 | 0,17%\n",
        "OrleansSt&ChestnutSt(NEXTApts) | Casual | 2994 | 0,17%\n",
        "SheridanRd&NoyesSt(NU) | Casual | 2992 | 0,17%\n",
        "SouthportAve&ClybournAve | Casual | 2983 | 0,17%\n",
        "GreenSt&WashingtonBlvd | Casual | 2966 | 0,17%\n",
        "SouthportAve&IrvingParkRd | Casual | 2963 | 0,17%\n",
        "DelanoCt&RooseveltRd | Casual | 2948 | 0,17%\n",
        "OgdenAve&RaceAve | Casual | 2916 | 0,17%\n",
        "ClarkSt&BrynMawrAve | Casual | 2910 | 0,17%\n",
        "LoomisSt&LexingtonSt | Casual | 2893 | 0,17%\n",
        "AberdeenSt&MonroeSt | Casual | 2875 | 0,17%\n",
        "DearbornSt&AdamsSt | Casual | 2868 | 0,17%\n",
        "StateSt&PearsonSt | Casual | 2856 | 0,16%\n",
        "SheridanRd&ArgyleSt | Casual | 2854 | 0,16%\n",
        "LarrabeeSt&ArmitageAve | Casual | 2846 | 0,16%\n",
        "HalstedSt&PolkSt | Casual | 2814 | 0,16%\n",
        "EckhartPark | Casual | 2808 | 0,16%\n",
        "ClarkSt&MontroseAve | Casual | 2801 | 0,16%\n",
        "AshlandAve&BlackhawkSt | Casual | 2790 | 0,16%\n",
        "MarineDr&AinslieSt | Casual | 2781 | 0,16%\n",
        "BuckinghamFountain(Temp) | Casual | 2780 | 0,16%\n",
        "AshlandAve&GraceSt | Casual | 2769 | 0,16%\n",
        "PaulinaAve&NorthAve | Casual | 2756 | 0,16%\n",
        "FinancialPl&IdaBWellsDr | Casual | 2753 | 0,16%\n",
        "MorganSt&PolkSt | Casual | 2729 | 0,16%\n",
        "DamenAve&ThomasSt(AugustaBlvd) | Casual | 2723 | 0,16%\n",
        "LeavittSt&NorthAve | Casual | 2700 | 0,16%\n",
        "Broadway&ArgyleSt | Casual | 2694 | 0,16%\n",
        "JeffersonSt&MonroeSt | Casual | 2672 | 0,15%\n",
        "RacineAve&WrightwoodAve | Casual | 2668 | 0,15%\n",
        "Broadway&GranvilleAve | Casual | 2662 | 0,15%\n",
        "AshlandAve&LakeSt | Casual | 2643 | 0,15%\n",
        "MorganSt&LakeSt* | Casual | 2642 | 0,15%\n",
        "DamenAve&DivisionSt | Casual | 2629 | 0,15%\n",
        "OrleansSt&HubbardSt | Casual | 2604 | 0,15%\n",
        "LakeParkAve&56thSt | Casual | 2600 | 0,15%\n",
        "BensonAve&ChurchSt | Casual | 2589 | 0,15%\n",
        "ElizabethSt&RandolphSt | Casual | 2550 | 0,15%\n",
        "WackerDr&WashingtonSt | Casual | 2542 | 0,15%\n",
        "WalshPark | Casual | 2540 | 0,15%\n",
        "Broadway&ThorndaleAve | Casual | 2530 | 0,15%\n",
        "GreenviewAve&DiverseyPkwy | Casual | 2529 | 0,15%\n",
        "SangamonSt&WashingtonBlvd | Casual | 2529 | 0,15%\n",
        "CaliforniaAve&CortezSt | Casual | 2519 | 0,15%\n",
        "SeeleyAve&RoscoeSt | Casual | 2507 | 0,14%\n",
        "WesternAve&WaltonSt | Casual | 2483 | 0,14%\n",
        "WentworthAve&CermakRd | Casual | 2464 | 0,14%\n",
        "LarrabeeSt&NorthAve | Casual | 2455 | 0,14%\n",
        "WesternAve&LelandAve | Casual | 2442 | 0,14%\n",
        "LaSalleSt&WashingtonSt | Casual | 2435 | 0,14%\n",
        "ClarkSt&IdaBWellsDr | Casual | 2419 | 0,14%\n",
        "WesternAve&DivisionSt | Casual | 2402 | 0,14%\n",
        "CornellAve&HydeParkBlvd | Casual | 2396 | 0,14%\n",
        "DamenAve&LelandAve | Casual | 2363 | 0,14%\n",
        "LakeParkAve&53rdSt | Casual | 2342 | 0,14%\n",
        "HumboldtBlvd&ArmitageAve | Casual | 2339 | 0,13%\n",
        "DamenAve&CharlestonSt | Casual | 2338 | 0,13%\n",
        "DearbornSt&VanBurenSt | Casual | 2319 | 0,13%\n",
        "ClintonSt&RooseveltRd | Casual | 2318 | 0,13%\n",
        "FortDearbornDr&31stSt | Casual | 2316 | 0,13%\n",
        "NGreenSt&WLakeSt | Casual | 2308 | 0,13%\n",
        "WinthropAve&LawrenceAve | Casual | 2298 | 0,13%\n",
        "Broadway&BerwynAve | Casual | 2275 | 0,13%\n"
      ],
      "metadata": {
        "id": "DI1m0ZBvsPhK"
      }
    },
    {
      "cell_type": "markdown",
      "source": [
        "<h1 id=\"Tabla_Estaciones_de_salida_más_frecuentadas_por_miembros_anuales\"\n",
        "    style=\"color: black;\n",
        "           font-size: 23px;\n",
        "           margin-left: -63px\">\n",
        "    &#160;&#160;&#160;&#160;&#160;&#160;&#160;&#160;&#160;&#160;Tabla soporte de los datos: Estaciones de salida más frecuentadas por los miembros anuales\n",
        "    <a class=\"anchor-link\"\n",
        "       href=\"#Tabla_Estaciones_de_salida_más_frecuentadas_por_miembros_anuales\"\n",
        "       target=\"_self\"\n",
        "       rel=\" noreferrer nofollow\">\n",
        "        ¶\n",
        "    </a>\n",
        "</h1>"
      ],
      "metadata": {
        "id": "mDQvdtFJsPhL"
      }
    },
    {
      "cell_type": "markdown",
      "source": [
        " start_station_name | Tipo_de_usuario | Numero_de_viajes | %\n",
        " ------------ | ------------ | ------------ | ------------\n",
        "ClintonSt&WashingtonBlvd | Miembro | 26216 | 0,84%\n",
        "KingsburySt&KinzieSt | Miembro | 26172 | 0,84%\n",
        "ClarkSt&ElmSt | Miembro | 25001 | 0,80%\n",
        "WellsSt&ConcordLn | Miembro | 21419 | 0,69%\n",
        "ClintonSt&MadisonSt | Miembro | 20596 | 0,66%\n",
        "WellsSt&ElmSt | Miembro | 20400 | 0,66%\n",
        "UniversityAve&57thSt | Miembro | 20038 | 0,64%\n",
        "Broadway&BarryAve | Miembro | 18959 | 0,61%\n",
        "LoomisSt&LexingtonSt | Miembro | 18901 | 0,61%\n",
        "StateSt&ChicagoAve | Miembro | 18485 | 0,59%\n",
        "EllisAve&60thSt | Miembro | 18171 | 0,58%\n",
        "CanalSt&AdamsSt | Miembro | 17542 | 0,56%\n",
        "StreeterDr&GrandAve | Miembro | 17219 | 0,55%\n",
        "WellsSt&HuronSt | Miembro | 17153 | 0,55%\n",
        "ClintonSt&JacksonBlvd | Miembro | 17038 | 0,55%\n",
        "LarrabeeSt&KingsburySt | Miembro | 17033 | 0,55%\n",
        "MorganSt&PolkSt | Miembro | 16921 | 0,54%\n",
        "StateSt&33rdSt | Miembro | 16807 | 0,54%\n",
        "SheffieldAve&FullertonAve | Miembro | 16745 | 0,54%\n",
        "WiltonAve&BelmontAve | Miembro | 16744 | 0,54%\n",
        "DearbornSt&ErieSt | Miembro | 16693 | 0,54%\n",
        "DesplainesSt&KinzieSt | Miembro | 16073 | 0,52%\n",
        "WellsSt&HubbardSt | Miembro | 16054 | 0,52%\n",
        "DuSableLakeShoreDr&NorthBlvd | Miembro | 15628 | 0,50%\n",
        "WabashAve&GrandAve | Miembro | 15480 | 0,50%\n",
        "ClarkSt&ArmitageAve | Miembro | 15373 | 0,49%\n",
        "KingsburySt&ErieSt | Miembro | 15318 | 0,49%\n",
        "Broadway&WavelandAve | Miembro | 15315 | 0,49%\n",
        "St.ClairSt&ErieSt | Miembro | 15283 | 0,49%\n",
        "ClarkSt&WrightwoodAve | Miembro | 15107 | 0,49%\n",
        "HalstedSt&PolkSt | Miembro | 14995 | 0,48%\n",
        "HalstedSt&ClybournAve | Miembro | 14985 | 0,48%\n",
        "AshlandAve&DivisionSt | Miembro | 14792 | 0,48%\n",
        "MichiganAve&OakSt | Miembro | 14719 | 0,47%\n",
        "OrleansSt&MerchandiseMartPlaza | Miembro | 14638 | 0,47%\n",
        "GreenSt&MadisonSt | Miembro | 14600 | 0,47%\n",
        "DearbornPkwy&DelawarePl | Miembro | 14593 | 0,47%\n",
        "LincolnAve&FullertonAve | Miembro | 14541 | 0,47%\n",
        "IndianaAve&RooseveltRd | Miembro | 14523 | 0,47%\n",
        "ClarkSt&LincolnAve | Miembro | 14510 | 0,47%\n",
        "EllisAve&55thSt | Miembro | 14498 | 0,47%\n",
        "PineGroveAve&WavelandAve | Miembro | 14243 | 0,46%\n",
        "MLKJrDr&29thSt | Miembro | 14106 | 0,45%\n",
        "DearbornSt&MonroeSt | Miembro | 13989 | 0,45%\n",
        "CanalSt&MadisonSt | Miembro | 13902 | 0,45%\n",
        "ClarkSt&DrummondPl | Miembro | 13889 | 0,45%\n",
        "LaSalleSt&IllinoisSt | Miembro | 13868 | 0,45%\n",
        "WabashAve&RooseveltRd | Miembro | 13779 | 0,44%\n",
        "TheaterontheLake | Miembro | 13709 | 0,44%\n",
        "MichiganAve&WashingtonSt | Miembro | 13460 | 0,43%\n",
        "Broadway&CorneliaAve | Miembro | 13340 | 0,43%\n",
        "SheridanRd&IrvingParkRd | Miembro | 13279 | 0,43%\n",
        "ClintonSt&LakeSt | Miembro | 13268 | 0,43%\n",
        "SouthportAve&WavelandAve | Miembro | 13231 | 0,43%\n",
        "PeoriaSt&JacksonBlvd | Miembro | 13203 | 0,42%\n",
        "DamenAve&PierceAve | Miembro | 13168 | 0,42%\n",
        "DaleyCenterPlaza | Miembro | 13157 | 0,42%\n",
        "ColumbusDr&RandolphSt | Miembro | 13040 | 0,42%\n",
        "MichiganAve&LakeSt | Miembro | 12957 | 0,42%\n",
        "HalstedSt&RoscoeSt | Miembro | 12883 | 0,41%\n",
        "FranklinSt&MonroeSt | Miembro | 12714 | 0,41%\n",
        "McClurgCt&OhioSt | Miembro | 12672 | 0,41%\n",
        "ClarkSt&SchillerSt | Miembro | 12635 | 0,41%\n",
        "LarrabeeSt&WebsterAve | Miembro | 12498 | 0,40%\n",
        "RavenswoodAve&LawrenceAve | Miembro | 12473 | 0,40%\n",
        "DuSableLakeShoreDr&DiverseyPkwy | Miembro | 12427 | 0,40%\n",
        "HalstedSt&WrightwoodAve | Miembro | 12375 | 0,40%\n",
        "SouthportAve&RoscoeSt | Miembro | 12334 | 0,40%\n",
        "ClarkSt&NewportSt | Miembro | 12308 | 0,40%\n",
        "FederalSt&PolkSt | Miembro | 12254 | 0,39%\n",
        "SheffieldAve&WebsterAve | Miembro | 12078 | 0,39%\n",
        "LaSalleSt&JacksonBlvd | Miembro | 12069 | 0,39%\n",
        "CanalSt&MonroeSt | Miembro | 12000 | 0,39%\n",
        "LakeviewAve&FullertonPkwy | Miembro | 11942 | 0,38%\n",
        "RacineAve&FullertonAve | Miembro | 11853 | 0,38%\n",
        "CalumetAve&33rdSt | Miembro | 11843 | 0,38%\n",
        "DuSableLakeShoreDr&BelmontAve | Miembro | 11835 | 0,38%\n",
        "SheffieldAve&WavelandAve | Miembro | 11800 | 0,38%\n",
        "WiltonAve&DiverseyPkwy | Miembro | 11685 | 0,38%\n",
        "FranklinSt&LakeSt | Miembro | 11641 | 0,37%\n",
        "NewSt&IllinoisSt | Miembro | 11586 | 0,37%\n",
        "KimbarkAve&53rdSt | Miembro | 11317 | 0,36%\n",
        "PineGroveAve&IrvingParkRd | Miembro | 11293 | 0,36%\n",
        "FranklinSt&JacksonBlvd | Miembro | 11269 | 0,36%\n",
        "MaySt&TaylorSt | Miembro | 11241 | 0,36%\n",
        "WellsSt&EvergreenAve | Miembro | 11192 | 0,36%\n",
        "AberdeenSt&JacksonBlvd | Miembro | 11133 | 0,36%\n",
        "SheffieldAve&WellingtonAve | Miembro | 11037 | 0,35%\n",
        "ClarkSt&LakeSt | Miembro | 10929 | 0,35%\n",
        "FairbanksCt&GrandAve | Miembro | 10916 | 0,35%\n",
        "Broadway&SheridanRd | Miembro | 10863 | 0,35%\n",
        "SedgwickSt&HuronSt | Miembro | 10847 | 0,35%\n",
        "SheridanRd&MontroseAve | Miembro | 10751 | 0,35%\n",
        "ClarkSt&WellingtonAve | Miembro | 10719 | 0,34%\n",
        "ClarendonAve&GordonTer | Miembro | 10704 | 0,34%\n",
        "Broadway&BelmontAve | Miembro | 10702 | 0,34%\n",
        "SheffieldAve&WrightwoodAve | Miembro | 10631 | 0,34%\n",
        "RushSt&CedarSt | Miembro | 10554 | 0,34%\n",
        "StateSt&RandolphSt | Miembro | 10536 | 0,34%\n",
        "DesplainesSt&JacksonBlvd | Miembro | 10530 | 0,34%\n",
        "McClurgCt&ErieSt | Miembro | 10489 | 0,34%\n",
        "CanalSt&JacksonBlvd | Miembro | 10446 | 0,34%\n",
        "MilwaukeeAve&GrandAve | Miembro | 10411 | 0,33%\n",
        "ClarkSt&WinnemacAve | Miembro | 10282 | 0,33%\n",
        "RushSt&SuperiorSt | Miembro | 10270 | 0,33%\n",
        "FranklinSt&ChicagoAve | Miembro | 10225 | 0,33%\n",
        "DuSableLakeShoreDr&WellingtonAve | Miembro | 10139 | 0,33%\n",
        "StateSt&KinzieSt | Miembro | 10138 | 0,33%\n",
        "HalstedSt&DickensAve | Miembro | 10093 | 0,32%\n",
        "SheffieldAve&KingsburySt | Miembro | 10075 | 0,32%\n",
        "ClarkSt&RandolphSt | Miembro | 10046 | 0,32%\n",
        "StocktonDr&WrightwoodAve | Miembro | 10006 | 0,32%\n",
        "SedgwickSt&WebsterAve | Miembro | 10004 | 0,32%\n",
        "MillenniumPark | Miembro | 9928 | 0,32%\n",
        "DuSableLakeShoreDr&MonroeSt | Miembro | 9801 | 0,32%\n",
        "HalstedSt&FultonSt | Miembro | 9758 | 0,31%\n",
        "SedgwickSt&NorthAve | Miembro | 9699 | 0,31%\n",
        "MiesvanderRoheWay&ChicagoAve | Miembro | 9550 | 0,31%\n",
        "900WHarrisonSt | Miembro | 9526 | 0,31%\n",
        "BurlingSt&DiverseyPkwy | Miembro | 9526 | 0,31%\n",
        "FranklinSt&IllinoisSt | Miembro | 9403 | 0,30%\n",
        "LincolnAve&DiverseyPkwy | Miembro | 9362 | 0,30%\n",
        "SouthportAve&WellingtonAve | Miembro | 9317 | 0,30%\n",
        "WoodSt&MilwaukeeAve | Miembro | 9106 | 0,29%\n",
        "OgdenAve&ChicagoAve | Miembro | 8935 | 0,29%\n",
        "WabashAve&9thSt | Miembro | 8915 | 0,29%\n",
        "SangamonSt&LakeSt | Miembro | 8756 | 0,28%\n",
        "MilwaukeeAve&WabansiaAve | Miembro | 8642 | 0,28%\n",
        "HonoreSt&DivisionSt | Miembro | 8547 | 0,27%\n",
        "WolcottAve&PolkSt | Miembro | 8397 | 0,27%\n",
        "WellsSt&WaltonSt | Miembro | 8257 | 0,27%\n",
        "RhodesAve&32ndSt | Miembro | 8245 | 0,27%\n",
        "MiesvanderRoheWay&ChestnutSt | Miembro | 8220 | 0,26%\n",
        "DaytonSt&NorthAve | Miembro | 8216 | 0,26%\n",
        "SouthportAve&BelmontAve | Miembro | 8192 | 0,26%\n",
        "MichiganAve&14thSt | Miembro | 8172 | 0,26%\n",
        "MontroseHarbor | Miembro | 8139 | 0,26%\n",
        "ClarkSt&BerwynAve | Miembro | 8095 | 0,26%\n",
        "LarrabeeSt&DivisionSt | Miembro | 8045 | 0,26%\n",
        "RacineAve&BelmontAve | Miembro | 8027 | 0,26%\n",
        "WackerDr&WashingtonSt | Miembro | 8000 | 0,26%\n",
        "SheridanRd&BuenaAve | Miembro | 7969 | 0,26%\n",
        "CarpenterSt&HuronSt | Miembro | 7965 | 0,26%\n",
        "FinancialPl&IdaBWellsDr | Miembro | 7836 | 0,25%\n",
        "Broadway&WilsonAve | Miembro | 7832 | 0,25%\n",
        "HalstedSt&MaxwellSt | Miembro | 7756 | 0,25%\n",
        "ClarkSt&GraceSt | Miembro | 7707 | 0,25%\n",
        "RacineAve&CongressPkwy | Miembro | 7701 | 0,25%\n",
        "AberdeenSt&RandolphSt | Miembro | 7687 | 0,25%\n",
        "GreenviewAve&FullertonAve | Miembro | 7686 | 0,25%\n",
        "ClarendonAve&JuniorTer | Miembro | 7614 | 0,24%\n",
        "KedzieAve&MilwaukeeAve | Miembro | 7578 | 0,24%\n",
        "SouthportAve&WrightwoodAve | Miembro | 7575 | 0,24%\n",
        "HalstedSt&WillowSt | Miembro | 7545 | 0,24%\n",
        "LaSalleDr&HuronSt | Miembro | 7524 | 0,24%\n",
        "HalstedSt&RooseveltRd | Miembro | 7456 | 0,24%\n",
        "ClarkSt&ChicagoAve | Miembro | 7419 | 0,24%\n",
        "FranklinSt&AdamsSt(Temp) | Miembro | 7324 | 0,24%\n",
        "StetsonAve&SouthWaterSt | Miembro | 7313 | 0,24%\n",
        "AberdeenSt&MonroeSt | Miembro | 7272 | 0,23%\n",
        "DesplainesSt&RandolphSt | Miembro | 7269 | 0,23%\n",
        "CliftonAve&ArmitageAve | Miembro | 7240 | 0,23%\n",
        "WoodlawnAve&55thSt | Miembro | 7223 | 0,23%\n",
        "EllisAve&58thSt | Miembro | 7201 | 0,23%\n",
        "JeffersonSt&MonroeSt | Miembro | 7187 | 0,23%\n",
        "CityfrontPlazaDr&PioneerCt | Miembro | 7175 | 0,23%\n",
        "PaulinaSt&FlournoySt | Miembro | 7162 | 0,23%\n",
        "RitchieCt&BanksSt | Miembro | 7118 | 0,23%\n",
        "WellsSt&PolkSt | Miembro | 7100 | 0,23%\n",
        "DamenAve&ChicagoAve | Miembro | 7021 | 0,23%\n",
        "LarrabeeSt&OakSt | Miembro | 6986 | 0,22%\n",
        "FieldBlvd&SouthWaterSt | Miembro | 6985 | 0,22%\n",
        "ClarkSt&NorthAve | Miembro | 6968 | 0,22%\n",
        "CaliforniaAve&MilwaukeeAve | Miembro | 6956 | 0,22%\n",
        "DamenAve&CortlandSt | Miembro | 6955 | 0,22%\n",
        "SheffieldAve&WillowSt | Miembro | 6919 | 0,22%\n",
        "RushSt&HubbardSt | Miembro | 6911 | 0,22%\n",
        "WabashAve&WackerPl | Miembro | 6853 | 0,22%\n",
        "ClarkSt&LelandAve | Miembro | 6810 | 0,22%\n",
        "MichiganAve&8thSt | Miembro | 6758 | 0,22%\n",
        "LakefrontTrail&BrynMawrAve | Miembro | 6621 | 0,21%\n",
        "WesternAve&WinnebagoAve | Miembro | 6601 | 0,21%\n",
        "WabashAve&AdamsSt | Miembro | 6571 | 0,21%\n",
        "DearbornSt&AdamsSt | Miembro | 6550 | 0,21%\n",
        "OrleansSt&HubbardSt | Miembro | 6548 | 0,21%\n",
        "StateSt&PearsonSt | Miembro | 6528 | 0,21%\n",
        "ElstonAve&CortlandSt | Miembro | 6518 | 0,21%\n",
        "LakeParkAve&56thSt | Miembro | 6465 | 0,21%\n",
        "OgdenAve&RaceAve | Miembro | 6444 | 0,21%\n",
        "ClarkSt&BrynMawrAve | Miembro | 6404 | 0,21%\n",
        "StateSt&VanBurenSt | Miembro | 6384 | 0,21%\n",
        "OrleansSt&ChestnutSt(NEXTApts) | Miembro | 6327 | 0,20%\n",
        "BissellSt&ArmitageAve* | Miembro | 6290 | 0,20%\n",
        "WabashAve&16thSt | Miembro | 6201 | 0,20%\n",
        "MichiganAve&18thSt | Miembro | 6193 | 0,20%\n",
        "Broadway&ArgyleSt | Miembro | 6161 | 0,20%\n",
        "LaSalleSt&WashingtonSt | Miembro | 6098 | 0,20%\n",
        "EckhartPark | Miembro | 6090 | 0,20%\n",
        "ShoreDr&55thSt | Miembro | 6083 | 0,20%\n",
        "ThroopSt&TaylorSt | Miembro | 6012 | 0,19%\n",
        "StateSt&35thSt | Miembro | 5994 | 0,19%\n",
        "DusableHarbor | Miembro | 5968 | 0,19%\n",
        "LarrabeeSt&ArmitageAve | Miembro | 5967 | 0,19%\n",
        "MorganSt&LakeSt* | Miembro | 5949 | 0,19%\n",
        "ClarkSt&IdaBWellsDr | Miembro | 5814 | 0,19%\n",
        "DamenAve&ThomasSt(AugustaBlvd) | Miembro | 5794 | 0,19%\n",
        "WoodSt&TaylorSt(Temp) | Miembro | 5783 | 0,19%\n",
        "MichiganAve&MadisonSt | Miembro | 5782 | 0,19%\n",
        "WesternAve&LelandAve | Miembro | 5781 | 0,19%\n",
        "SouthportAve&ClybournAve | Miembro | 5776 | 0,19%\n",
        "AshlandAve&BlackhawkSt | Miembro | 5765 | 0,19%\n",
        "WoodSt&ChicagoAve | Miembro | 5719 | 0,18%\n",
        "SouthportAve&IrvingParkRd | Miembro | 5689 | 0,18%\n",
        "ElizabethSt&RandolphSt | Miembro | 5652 | 0,18%\n",
        "LincolnParkConservatory | Miembro | 5611 | 0,18%\n",
        "SangamonSt&WashingtonBlvd | Miembro | 5581 | 0,18%\n",
        "Broadway&BerwynAve | Miembro | 5537 | 0,18%\n",
        "GreenSt&WashingtonBlvd | Miembro | 5527 | 0,18%\n",
        "RacineAve&WrightwoodAve | Miembro | 5516 | 0,18%\n",
        "BurnhamHarbor | Miembro | 5499 | 0,18%\n",
        "MichiganAve&JacksonBlvd | Miembro | 5493 | 0,18%\n",
        "MichiganAve&PearsonSt | Miembro | 5414 | 0,17%\n",
        "AshlandAve&AugustaBlvd | Miembro | 5387 | 0,17%\n",
        "LarrabeeSt&NorthAve | Miembro | 5386 | 0,17%\n",
        "DamenAve&DivisionSt | Miembro | 5381 | 0,17%\n",
        "ClybournAve&DivisionSt | Miembro | 5325 | 0,17%\n",
        "EmeraldAve&31stSt | Miembro | 5323 | 0,17%\n",
        "FairbanksSt&SuperiorSt | Miembro | 5238 | 0,17%\n",
        "AshlandAve&WellingtonAve | Miembro | 5236 | 0,17%\n",
        "HermitageAve&PolkSt | Miembro | 5232 | 0,17%\n",
        "ClintonSt&RooseveltRd | Miembro | 5227 | 0,17%\n",
        "AshlandAve&GraceSt | Miembro | 5119 | 0,16%\n",
        "StateSt&HarrisonSt | Miembro | 5101 | 0,16%\n",
        "ClarkSt&MontroseAve | Miembro | 5071 | 0,16%\n",
        "AdlerPlanetarium | Miembro | 5030 | 0,16%\n",
        "SheddAquarium | Miembro | 5022 | 0,16%\n",
        "WoodSt&AugustaBlvd | Miembro | 5008 | 0,16%\n",
        "LeavittSt&NorthAve | Miembro | 5007 | 0,16%\n",
        "ElizabethSt&FultonSt | Miembro | 4982 | 0,16%\n",
        "WalshPark | Miembro | 4975 | 0,16%\n",
        "CornellAve&HydeParkBlvd | Miembro | 4922 | 0,16%\n",
        "LoomisSt&JacksonBlvd | Miembro | 4915 | 0,16%\n",
        "Broadway&ThorndaleAve | Miembro | 4869 | 0,16%\n",
        "LincolnAve&RoscoeSt* | Miembro | 4840 | 0,16%\n",
        "AdaSt&WashingtonBlvd | Miembro | 4806 | 0,15%\n",
        "WellsSt&InstitutePl | Miembro | 4760 | 0,15%\n",
        "SheridanRd&ArgyleSt | Miembro | 4753 | 0,15%\n",
        "IndianaAve&31stSt | Miembro | 4709 | 0,15%\n",
        "CalumetAve&18thSt | Miembro | 4689 | 0,15%\n",
        "ShieldsAve&31stSt | Miembro | 4669 | 0,15%\n",
        "PaulinaAve&NorthAve | Miembro | 4626 | 0,15%\n",
        "WinthropAve&LawrenceAve | Miembro | 4626 | 0,15%\n"
      ],
      "metadata": {
        "id": "5je_Be6XsPhM"
      }
    },
    {
      "cell_type": "markdown",
      "source": [
        "<h1 id=\"elecciones_de_bicicletas\"\n",
        "    style=\"color: black;\n",
        "           font-size: 23px;\n",
        "           margin-left: -33px\">\n",
        "    &#160;&#160;&#160;&#160;&#160;Analisis elecciones de bicicletas\n",
        "    <a class=\"anchor-link\"\n",
        "       href=\"#elecciones_de_bicicletas\"\n",
        "       target=\"_self\"\n",
        "       rel=\" noreferrer nofollow\">\n",
        "        ¶\n",
        "    </a>\n",
        "</h1>\n",
        "\n",
        "Sobre las elecciones de bicicletas de los ciclistas en la empresa Cyclistic\n",
        "\n",
        "Informacion suministrada por la empresa Cyclistic\n",
        "\n",
        "* La mayoría de los ciclistas eligen las bicicletas tradicionales,\n",
        "* Alrededor de un 8% de los ciclistas usan las opciones asistidas.\n",
        "* Los usuarios de Cyclistic son más propensos a utilizar la bicicleta para recreación, pero\n",
        "* Alrededor del 30% la utiliza para ir al trabajo cada día.\n",
        "\n",
        "(Para limitar la extecion del analisis se asumio esta informacion suministrada por Cyclistic como suficiente, en un analisis posterior podra extenderse en este sentido)\n"
      ],
      "metadata": {
        "id": "P4ZCOwJ7sPhN"
      }
    },
    {
      "cell_type": "markdown",
      "source": [
        "# Conclusiones\n",
        "\n",
        "**Resumen Breve:**\n",
        "\n",
        "Este informe analiza el comportamiento de los clientes de Cyclistic, diferenciando entre Ciclistas Ocasionales y Miembros Anuales. Se identifican patrones de uso, preferencias y motivos que impulsan la elección de cada tipo de cliente.\n",
        "\n",
        "**Evaluación de los Resultados:**\n",
        "\n",
        "Los **Ciclistas Ocasionales** utilizan el servicio por un tiempo promedio significativamente mayor que los **Miembros Anuales**, con una duración de **25:41 minutos** frente a **12:05 minutos**, lo que representa un incremento del **213%**. Aunque este dato indica un uso más prolongado, la estructura de pago por membresía podría no reflejar completamente su impacto en la generación de ingresos. Además, se detecta una variabilidad estacional en el uso del servicio, siendo más intensa durante los meses más cálidos.\n",
        "\n",
        "En particular, los **Ciclistas Ocasionales** muestran un aumento de actividad los fines de semana, apuntando a un uso recreativo, con el **sábado de julio** marcando el pico de viajes. Por otro lado, los **Miembros Anuales** tienden a utilizar más el servicio de **lunes a viernes**, indicando un uso predominante para el transporte laboral, siendo el **martes de agosto** el día con más actividad.\n",
        "\n",
        "Es notable que en 2023, el **80,01%** de los viajes de **Ciclistas Ocasionales** se originaron en tan solo el **16,41%** de las estaciones, mientras que el **80,09%** de los viajes de **Miembros Anuales** provino del **17,32%** de las estaciones. Cualquier estrategia de reducción de costos debe considerar la importancia de estas estaciones clave sin afectar negativamente a estos grupos de usuarios.\n",
        "\n",
        "En cuanto a las preferencias de bicicletas entre los usuarios de Cyclistic, se ha observado que la **mayoría opta por bicicletas tradicionales**. Un segmento menor, aproximadamente el **8%**, prefiere utilizar **bicicletas con asistencia**. Este análisis se basa en la información proporcionada por Cyclistic y se considera suficiente para el alcance actual del estudio. Se anticipa que investigaciones futuras podrán profundizar y expandir estos hallazgos.\n",
        "\n",
        "Finalmente, convertir a **Ciclistas Ocasionales** en **Miembros Anuales** representa una oportunidad significativa para optimizar la base de clientes y aumentar las ganancias. Sin embargo, es crucial reconocer que un incremento en ingresos no garantiza una expansión en la cuota de mercado, un factor vital para la sostenibilidad a largo plazo de Cyclistic.\"\n"
      ],
      "metadata": {
        "id": "kmF7rZ2FsPhN"
      }
    },
    {
      "cell_type": "markdown",
      "source": [
        "# Recomendaciones\n",
        "\n",
        "**La Investigación de Mercado como Fundamento de la Estrategia de Marketing:**\n",
        "\n",
        "El análisis de mercado es un pilar crucial para la nueva estrategia de marketing de Cyclistic, y debe ser exhaustivo, incluyendo tanto la comprensión detallada del segmento objetivo como la valoración del mercado en su totalidad. La estrategia debe fundamentarse en un análisis meticuloso de datos internos, como los patrones de uso y las preferencias de los clientes, que constituyen el análisis interno. No obstante, para una visión completa y estratégica, es imprescindible complementar con un análisis externo que contemple estudios de mercado amplios, asegurando así una campaña de marketing bien informada y efectiva.\n",
        "\n",
        "\n",
        "**Cuota de Mercado y Fijación de Metas:**\n",
        "\n",
        "Recomiendo realizar una investigación exhaustiva sobre la cuota de mercado de Cyclistic. Esta información permitirá a la empresa establecer metas realistas y ambiciosas que se alineen con sus objetivos de crecimiento. La cuota de mercado se define como el porcentaje del servicio de alquiler de bicicletas en la ciudad de Chicago que Cyclistic vende durante el año de estudio.\n",
        "\n",
        "**Evaluación de la Hipótesis de Crecimiento:**\n",
        "\n",
        "Propongo realizar una evaluación en profundidad, similar a un Minority-Report \"Informe de Minoría\", para reevaluar la hipótesis de que un crecimiento significativo puede lograrse únicamente a través de una campaña de marketing dirigida a Convertir a nuestros Ciclistas Ocasionales en Miembros Anuales. Este informe debería analizar críticamente la viabilidad de este enfoque y considerar alternativas, como una campaña de marketing integral que abarque tanto a clientes nuevos en Cyclistic como existentes.\n",
        "\n",
        "**Enfoque en el Crecimiento Sostenible:**\n",
        "\n",
        "Es crucial recordar que el crecimiento sostenible no se basa únicamente en la adquisición de nuevos clientes. Es fundamental fidelizar a los clientes existentes y fomentar el uso repetido del servicio. La estrategia de marketing debe considerar todos estos aspectos para asegurar el éxito a largo plazo de Cyclistic.\n",
        "\n",
        "**Reflexión Final y Llamada a la Acción:**\n",
        "\n",
        "Para Cyclistic, transformar a los ciclistas ocasionales en miembros anuales es una estrategia fundamental que promete incrementar la rentabilidad y consolidar su clientela. Es esencial desarrollar campañas de marketing personalizadas que destaquen las ventajas de convertirse en miembro anual para atraer a este segmento. No obstante, es vital reconocer que el aumento de ingresos no se traduce automáticamente en una mayor cuota de mercado, la cual es crucial para el éxito sostenido. Por ello, se aconseja adoptar tácticas que fomenten simultáneamente el crecimiento de los ingresos y la ampliación de la cuota de mercado. Implementar programas de lealtad y descuentos puede ser una táctica efectiva para motivar la transición a membresías anuales, junto con una estrategia de marketing innovadora enfocada en la conversión de ciclistas ocasionales a miembros permanentes."
      ],
      "metadata": {
        "id": "AmMAencHsPhO"
      }
    },
    {
      "cell_type": "markdown",
      "source": [
        "# Lista de referencias\n",
        "\n",
        "(1) Index of bucket \"divvy-tripdata\"\n",
        "https://divvy-tripdata.s3.amazonaws.com/index.html\n",
        "\n",
        "(2) How Divvy Works: Join, Unlock, Ride, Return | Divvy Bikes\n",
        "https://divvybikes.com/how-it-works\n",
        "\n",
        "(3) COAL FREE BRITAIN | Tableau Public\n",
        "https://public.tableau.com/app/profile/eve.thomas/viz/COALFREEBRITAIN/Dashboard2\n",
        "\n",
        "(4) timeanddate.com.\n",
        "https://www.timeanddate.com/weather/usa/chicago/historic?\n",
        "\n",
        "(5) La mejor época para visitar Chicago: clima y temperaturas. ¡6 meses para evitar! - Estados Unidos - Dónde y cuándo (whereandwhen.net)\n",
        "https://www.whereandwhen.net/when/north-america/united-states/chicago-il/\n",
        "\n",
        "(6) Is Chicago getting warmer? A look at numbers for 2023 – NBC Chicago. https://www.nbcchicago.com/weather/is-chicago-getting-warmer-heres-a-look-at-numbers-for-2023-and-where-they-rank/3298492/\n",
        "\n",
        "(7) La belleza de la visualización de datos\n",
        "https://www.ted.com/talks/david_mccandless_the_beauty_of_data_visualization?hasSummary=true&subtitle=es&language=en"
      ],
      "metadata": {
        "id": "exFbLVxVsPhO"
      }
    },
    {
      "cell_type": "markdown",
      "source": [
        "-----"
      ],
      "metadata": {
        "id": "Z3vakg4AsPhO"
      }
    },
    {
      "cell_type": "markdown",
      "source": [
        "# <span style=\"font-family: Marcellus;\">Minority-Report (informe de minoría)</span>\n"
      ],
      "metadata": {
        "id": "oDT2RlMzsPhP"
      }
    },
    {
      "cell_type": "markdown",
      "source": [
        "<h1 id=\"Introducción\"\n",
        "    style=\"color: black;\n",
        "           font-size: 23px;\n",
        "           margin-left: -33px\">\n",
        "    &#160;&#160;&#160;&#160;&#160;Introducción\n",
        "    <a class=\"anchor-link\"\n",
        "       href=\"#Introducción\"\n",
        "       target=\"_self\"\n",
        "       rel=\" noreferrer nofollow\">\n",
        "        ¶\n",
        "    </a>\n",
        "</h1>"
      ],
      "metadata": {
        "id": "6XFhgWu-sPhP"
      }
    },
    {
      "cell_type": "markdown",
      "source": [
        "En respuesta y como complemento al informe *CaseStudyCyclisticChicago2023_Boris-GonzalezV2*, presentamos este **Informe de Minoría** para destacar nuestras preocupaciones y perspectivas adicionales sobre el planteamiento de la gerencia de marketing en relación a dos enfoques aparentemente antagónicos: **Enfoque de Marketing General** versus **Enfoque de Marketing Selectivo**.\n",
        "\n",
        "**Planteamiento de la gerencia de marketing**:\n",
        "En lugar de llevar a cabo una campaña de marketing general dirigida a todos los clientes potenciales, se sugiere una estrategia más enfocada: convertir a los ciclistas ocasionales en socios anuales. Existen oportunidades para lograr esta conversión mediante estrategias de marketing específicas.\""
      ],
      "metadata": {
        "id": "tUimiBnosPhP"
      }
    },
    {
      "cell_type": "markdown",
      "source": [
        "**Glosario de términos**\n",
        "\n",
        "* **Marketing:** Conjunto de actividades que tienen como objetivo crear, comunicar, entregar e intercambiar ofertas que tengan valor para los clientes, clientes potenciales, socios y la sociedad en general.\n",
        "* **Plan de marketing:** Documento que describe las estrategias y acciones que se llevarán a cabo para alcanzar los objetivos de marketing de una empresa.\n",
        "* **Teoría del TOC:** Es una metodología de gestión que se enfoca en identificar y eliminar los **cuellos de botella** o **restricciones** que limitan el crecimiento de una organización.\n",
        "* **Cuello de botella:** Es el recurso o proceso en el sistema que limita la capacidad total de producción o salida.\n",
        "* **Explotación del cuello de botella:** Consiste en enfocar los recursos y esfuerzos en optimizar el rendimiento del cuello de botella para maximizar la producción total.\n",
        "* **Subordinación de los no cuellos de botella:** Consiste en alinear los demás recursos y procesos del sistema con el rendimiento del cuello de botella para evitar la sobreproducción o el desperdicio.\n",
        "* **Cuello de botella de marketing:** Cualquier factor que limite la capacidad de una empresa para alcanzar sus objetivos de marketing, como la falta de recursos, la ineficiencia de los procesos o la saturación del mercado.\n",
        "* **Estrategia:** La estrategia se refiere a la planificación y disposición de recursos y tácticas específicas para alcanzar objetivos concretos. Es más táctica y se enfoca en los medios y métodos disponibles para lograr metas específicas. Puede ser a corto o medio plazo.\n",
        "* **Gran Estrategia:** La gran estrategia es un concepto más amplio que va más allá de la táctica. Se centra en la coordinación de todas las facetas de una organización para garantizar el éxito y la supervivencia a largo plazo. Es una visión a largo plazo que abarca aspectos globales, como maximizar la visibilidad y la participación en el mercado en general.\n"
      ],
      "metadata": {
        "id": "nMVz7yjbsPhQ"
      }
    },
    {
      "cell_type": "markdown",
      "source": [
        "<h1 id=\"Metodología\"\n",
        "    style=\"color: black;\n",
        "           font-size: 23px;\n",
        "           margin-left: -33px\">\n",
        "    &#160;&#160;&#160;&#160;&#160;Metodología\n",
        "    <a class=\"anchor-link\"\n",
        "       href=\"#Metodología\"\n",
        "       target=\"_self\"\n",
        "       rel=\" noreferrer nofollow\">\n",
        "        ¶\n",
        "    </a>\n",
        "</h1>\n"
      ],
      "metadata": {
        "id": "fAeDpMQpsPhQ"
      }
    },
    {
      "cell_type": "markdown",
      "source": [
        "En esta sección de metodología, revisamos dos enfoques fundamentales en el análisis de marketing: **Enfoque de Marketing General** y **Enfoque de Marketing Selectivo**. Además, consideramos las metodologías de la **Teoría de las Restricciones (TOC)** para diseñar planes de marketing, prestando especial atención a las restricciones o límites de crecimiento. La metodología tiene un enfoque integral para el análisis de marketing, combinando estrategias de alcance general y selectivo con la Teoría de las Restricciones (TOC).\n",
        "\n",
        "**Enfoque de Marketing General**\n",
        "\n",
        "**Características:**\n",
        "\n",
        "* **Alcance a una Audiencia Amplia:** Apunta a llegar a la mayor cantidad posible de clientes potenciales, sin distinciones de segmentación.\n",
        "* **Presencia en el Mercado Global:** Optimiza la visibilidad y el engagement en todo el mercado.\n",
        "* **Estrategias de Amplio Alcance:** Emplea estrategias generalizadas para maximizar el alcance.\n",
        "\n",
        "**Ventajas:**\n",
        "\n",
        "* **Expansión del Reconocimiento de Marca:** Aumenta el conocimiento y el alcance de la marca.\n",
        "* **Base de Clientes Diversa:** Construye una base de clientes amplia y diversa.\n",
        "* **Rentabilidad:** Aprovecha las economías de escala para ofrecer precios competitivos.\n",
        "\n",
        "**Desafíos:**\n",
        "\n",
        "* **Competencia Intensificada:** Enfrenta una mayor competencia en un mercado saturado.\n",
        "* **Obstáculos en la Comunicación Personalizada:** Presenta desafíos para adaptar la comunicación a segmentos específicos de clientes.\n",
        "* **Riesgos de Dispersión de Recursos:** Riesgo de dispersar los recursos demasiado en una audiencia amplia.\n",
        "\n",
        "**Enfoque de Marketing Selectivo**\n",
        "\n",
        "**Características:**\n",
        "\n",
        "* **Segmentación Dirigida:** Se enfoca en segmentos de mercado específicos y bien definidos.\n",
        "* **Relaciones Profundas con los Clientes:** Fomenta conexiones sólidas con grupos de clientes definidos.\n",
        "* **Estrategias Personalizadas:** Adapta las estrategias y mensajes de marketing a segmentos específicos.\n",
        "\n",
        "**Ventajas:**\n",
        "\n",
        "* **Relevancia y Valor Mejorados para el Cliente:** Ofrece propuestas altamente relevantes y valiosas para los clientes.\n",
        "* **Tasas de Conversión Mejoradas:** Aumenta la eficacia de convertir a los prospectos en clientes.\n",
        "* **Optimización del Uso de Recursos:** Asigna los recursos de manera más eficiente.\n",
        "\n",
        "**Desafíos:**\n",
        "\n",
        "* **Alcance Limitado en Comparación con el Enfoque General:** Opera con un alcance de audiencia más pequeño.\n",
        "* **Requerimiento de Conocimiento Detallado del Segmento de Mercado:** Exige una comprensión profunda de los segmentos de mercado objetivo.\n",
        "\n",
        "**Elección Estratégica: Marketing General vs. Selectivo**\n",
        "\n",
        "La elección entre estos enfoques depende principalmente de la meta de la empresa, que siempre es La meta es incrementar la utilidad neta, al tiempo que incrementar el rendimiento de la inversión y simultáneamente el flujo de efectivo.\n",
        "\n",
        "**Teoría de las Restricciones (TOC) para la Eficacia del Marketing**\n",
        "\n",
        "La Teoría de las Restricciones (TOC), formulada por Eliyahu M. Goldratt, tiene una gran relevancia para los planes de marketing tanto generales como selectivos.\n",
        "\n",
        "**Identificación de Restricciones: El Núcleo de la TOC**\n",
        "\n",
        "La TOC enfatiza la identificación de la **restricción** o **cuello de botella** dentro de un sistema, que en el caso de Cyclistic podría la cuota de mercado o el margen de crecimiento (limite de crecimiento) asociado al beneficio.\n",
        "\n",
        "**Propuesta de Valor Personalizada**\n",
        "\n",
        "Es esencial desarrollar una propuesta de valor única que resalte los beneficios específicos y enmarque la restricción como el elemento central para el diseño de estrategias efectivas.\n",
        "\n",
        "**Medición y Optimización**\n",
        "\n",
        "La TOC promueve la evaluación y mejora continua de las tasas de conversión, cuestionando si la restricción se está utilizando de manera eficiente y qué mejoras son posibles.\n",
        "\n",
        "**Fortalecimiento de la Restricción**\n",
        "\n",
        "Es fundamental mejorar las tácticas de conversión para generar un impacto significativo en los resultados generales.\n",
        "\n",
        "**Conclusión: Una Estrategia Enfocada y Efectiva**\n",
        "\n",
        "La TOC guía a Cyclistic hacia una estrategia más enfocada y efectiva, considerando la restricción como el elemento central para el éxito. Al abordar esta restricción, Cyclistic puede desbloquear su verdadero potencial de crecimiento y lograr un éxito sostenible.\n",
        "\n",
        "En resumen, la TOC nos guía hacia una estrategia más enfocada y efectiva al considerar la restricción como el punto clave para el éxito en la conversión de ciclistas ocasionales en socios anuales.\n",
        "\n",
        "------\n"
      ],
      "metadata": {
        "id": "a9b6UPT9sPhR"
      }
    },
    {
      "cell_type": "markdown",
      "source": [
        "<h1 id=\"Hallazgos_o_Resultados\"\n",
        "    style=\"color: black;\n",
        "           font-size: 23px;\n",
        "           margin-left: -33px\">\n",
        "    &#160;&#160;&#160;&#160;&#160;Hallazgos o Resultados\n",
        "    <a class=\"anchor-link\"\n",
        "       href=\"#Hallazgos_o_Resultados\"\n",
        "       target=\"_self\"\n",
        "       rel=\" noreferrer nofollow\">\n",
        "        ¶\n",
        "    </a>\n",
        "</h1>"
      ],
      "metadata": {
        "id": "mhQCnHPwsPhR"
      }
    },
    {
      "cell_type": "markdown",
      "source": [
        "Nos propusimos evaluar la afirmación de la gerencia de marketing, la cual considera que **incrementar el número de miembros anuales es esencial para el crecimiento futuro de la organización**. Para ello, nos fue necesario comprender en qué dimensiones se espera este crecimiento, según lo expresado por la gerencia de marketing. Estas dimensiones podrían incluir:\n",
        "- Beneficio\n",
        "- Cuota de mercado\n",
        "- Utilidad neta\n",
        "- Rendimiento de la inversión\n",
        "- Flujo de efectivo\n",
        "- Número de miembros anuales\n",
        "- Número de ciclistas ocasionales\n",
        "- Número de clientes\n",
        "\n",
        "Supusimos, que según la hipótesis de la gerencia de marketing, la estrategia de máyor crecimiento ***(mayor beneficio, en este análisis)*** para la empresa Cyclistic es convertir a los ciclistas ocasionales en socios anuales, en lugar de realizar una campaña de marketing general dirigida a todos los clientes potenciales. **El límite de crecimiento seria la cuota de mercado actual de la ermpresa Cyclistic**.\n",
        "\n",
        "Para estimar la cuota de mercado, se utilizó la información del **conteo de bicicletas realizado por el departamento de transportación de Chcago CDOT, en el centro durante la primavera de 2015, específicamente los días martes 12 y sábado 16 de mayo**. En este conteo, se determinó que el **21% de los ciclistas usaban bicicletas del sistema Divvy**, mientras que el **79% optaba por bicicletas particulares**. Esta proporción del conteo de primavera se utilizó como indicador de la cuota de mercado, con la intención de revisar el planteamiento de la gerencia. **Asumiremos esta cantidad, 21% de los ciclistas usaban bicicletas del sistema Divvy, como la cuota de mercado de la empresa Cyclistic** *con fines demostrativos*.\n",
        "\n",
        "Para determinar la proporción de miembros anuales y ciclistas ocasionales, se utilizó la proporción del número de viajes entre ambos grupos, aplicando un isomorfismo de medición **(Proporción de viajes => Proporción de clientes => Proporción de demanda)**, asumiendo que posiblemente tengan la misma forma o patrón subyacente **(*64% Miembros Anuales y 36% Ciclistas Ocasionales*)**.\n",
        "\n",
        "Según la información del censo de Chicago del año 2020, la población ascendía a **2.746.388 habitantes**.\n",
        "\n",
        "Para determinar la cantidad de ciclistas en la ciudad de Chicago, se utilizó la información del **Report on 2016 American community survey data by the league of american bicyclists** , donde se determina que solo el **1,7% de la población de Chicago utiliza bicicletas**. Al calcular esto con la población de la ciudad de Chicago (1,7% * 2.746.388), obtenemos un total de **46.689 ciclistas en la ciudad**.\n",
        "\n",
        "Para determinar la cuota de mercado de la empresa Cyclistic, multiplicamos la proporción del conteo de primavera de la empresa Divvy por la cantidad estimada de ciclistas en la ciudad de Chicago para el año 2020, lo que resultaría en (21% * 46.689) un total de **9.805 como cuota de mercado de Cyclistic**.\n",
        "\n",
        "Para determinar la cantidad de miembros anuales y ciclistas ocasionales en el periodo del año 2023, procedimos a utilizar la proporción de miembros anuales y ciclistas ocasionales y efectuar el cálculo con la cantidad estimada de cuota de mercado:\n",
        "- Cantidad estimada de miembros anuales: $$64\\% \\times 9.805 = 6.275$$\n",
        "- Cantidad estimada de ciclistas ocasionales: $$36\\% \\times 9.805 = 3.530$$\n",
        "\n"
      ],
      "metadata": {
        "id": "lPHfVpLJsPhS"
      }
    },
    {
      "cell_type": "markdown",
      "source": [
        "<h1 id=\"Proporcion_de_cuota_de_mercado\"\n",
        "    style=\"color: black;\n",
        "           font-size: 23px;\n",
        "           margin-left: -63px\">\n",
        "    &#160;&#160;&#160;&#160;&#160;&#160;&#160;&#160;&#160;&#160;Proporcion de cuota de mercado Cyclistic, segun el conteo de bicicletas la primavera de 2015 en la ciudad de Chicago\n",
        "    <a class=\"anchor-link\"\n",
        "       href=\"#Proporcion_de_cuota_de_mercado\"\n",
        "       target=\"_self\"\n",
        "       rel=\" noreferrer nofollow\">\n",
        "        ¶\n",
        "    </a>\n",
        "</h1>"
      ],
      "metadata": {
        "id": "48Yb2k8DsPhS"
      }
    },
    {
      "cell_type": "markdown",
      "source": [
        "![Imagen_23C.jpg](https://drive.google.com/uc?id=1_JFdIaOlbB-r8eEHmp1cBETXedb6t1-J)\n",
        "\n",
        "\n"
      ],
      "metadata": {
        "id": "O0ptWv38sPhT"
      }
    },
    {
      "cell_type": "markdown",
      "source": [
        "<h1 id=\"Proporción_demamda_Proporción_clientes\"\n",
        "    style=\"color: black;\n",
        "           font-size: 23px;\n",
        "           margin-left: -63px\">\n",
        "    &#160;&#160;&#160;&#160;&#160;&#160;&#160;&#160;&#160;&#160;Proporción Miembros Anuales / Ciclistas Ocasionales\n",
        "    <a class=\"anchor-link\"\n",
        "       href=\"#Proporción_demamda_Proporción_clientes\"\n",
        "       target=\"_self\"\n",
        "       rel=\" noreferrer nofollow\">\n",
        "        ¶\n",
        "    </a>\n",
        "</h1>"
      ],
      "metadata": {
        "id": "1nUt9rsJsPhT"
      }
    },
    {
      "cell_type": "markdown",
      "source": [
        "![Imagen_22V1C.jpg](https://drive.google.com/uc?id=1Z5k6SgoT_5iXiQLWwsWm3-bbfVL6DP_d)"
      ],
      "metadata": {
        "id": "jLnIpkp3sPhT"
      }
    },
    {
      "cell_type": "markdown",
      "source": [
        "<h1 id=\"margenes_de_beneficio\"\n",
        "    style=\"color: black;\n",
        "           font-size: 23px;\n",
        "           margin-left: -63px\">\n",
        "    &#160;&#160;&#160;&#160;&#160;&#160;&#160;&#160;&#160;&#160;Comparacion de margenes de beneficio, en funcion de variacion de cuota de mercado\n",
        "    <a class=\"anchor-link\"\n",
        "       href=\"#margenes_de_beneficio\"\n",
        "       target=\"_self\"\n",
        "       rel=\" noreferrer nofollow\">\n",
        "        ¶\n",
        "    </a>\n",
        "</h1>"
      ],
      "metadata": {
        "id": "ppsRHhi-sPhU"
      }
    },
    {
      "cell_type": "markdown",
      "source": [
        "\n",
        "![Imagen_15V1C.jpg](https://drive.google.com/uc?id=1mqK-92WsdCrzbeMIPWb1c8aykDGcTh4o)\n"
      ],
      "metadata": {
        "id": "t1BdijcVsPhU"
      }
    },
    {
      "cell_type": "markdown",
      "source": [
        "<h1 id=\"Análisis_e_Interpretación\"\n",
        "    style=\"color: black;\n",
        "           font-size: 23px;\n",
        "           margin-left: -33px\">\n",
        "    &#160;&#160;&#160;&#160;&#160;Análisis e Interpretación\n",
        "    <a class=\"anchor-link\"\n",
        "       href=\"#Análisis_e_Interpretación\"\n",
        "       target=\"_self\"\n",
        "       rel=\" noreferrer nofollow\">\n",
        "        ¶\n",
        "    </a>\n",
        "</h1>"
      ],
      "metadata": {
        "id": "Q1-ZBj7GsPhU"
      }
    },
    {
      "cell_type": "markdown",
      "source": [
        "\n",
        "**Los hallazgos revelan las siguientes situaciones:**\n",
        "\n",
        "1. **Comparacion de margenes de beneficio, en funcion de variacion de cuota de mercado**:\n",
        "\n",
        "   En el gráfico de ejemplo, se presentan tres escenarios: uno base y dos supuestos. El primer escenario está relacionado con la estrategia de Enfoque de Marketing Selectivo, donde se incrementa la proporción de Miembros Anuales del 64% al 80%. El segundo escenario corresponde al Enfoque de Marketing General, donde se considera el aumento absoluto en la cantidad de **Miembros Anuales** tomados del mercado, en lugar de la cuota de mercado, logrando elevarla del 21% al 24%.  \n",
        "   \n",
        "   **Escenario base:**\n",
        "    \n",
        "       36% * 9.805 (cuota de mercado 21%) * Margen de beneficio de Ciclistas Ocasionales = 3.530 * MBo = X1\n",
        "       \n",
        "       64% * 9.805 (cuota de mercado 21%) * Margen de beneficio de Miembros Anuales      = 6.275 * MBa = X2\n",
        "\n",
        "      **Benefico Base = X1+X2**\n",
        "      \n",
        "      **Escenario 1:**\n",
        "      \n",
        "       20% * 9.805 (cuota de mercado 21%) * Margen de beneficio de Ciclistas Ocasionales = 1.950 * MBo = X3\n",
        "      \n",
        "       80% * 9.805 (cuota de mercado 21%) * Margen de beneficio de Miembros Anuales      = 7.844 * MBa = X4\n",
        "       \n",
        "      ***Benefico Es1 = X3+X4***\n",
        "       \n",
        "     **Escenario 2:**\n",
        "    \n",
        "       31% * 11.373 (nueva cuota de mercado) * Margen de beneficio de Ciclistas Ocasionales = 3.530 * MBo = X1\n",
        "       \n",
        "       69% * 11.373 (nueva cuota de mercado) * Margen de beneficio de Miembros Anuales      = 7.844 * MBa = X4\n",
        "\n",
        "      ***Benefico Es2 = X1+X4***\n",
        "       \n",
        "      ***Como X1 > X3  =>  Benefico Es2 > Benefico Es1***\n",
        "       \n",
        "      ***Podemos concluir que en el escenario 2, al convertir nuevos miembros anuales del mercado fuera de nuestra cuota de mercado, el beneficio es mayor.***\n",
        "      \n",
        "    \n",
        "    \n",
        "2. **Enfoque de Marketing Selectivo**:\n",
        "    - En el contexto de la empresa Cyclistic, el **límite de crecimiento** está directamente relacionado con la **cuota de mercado**. Esta cuota representa la porción del mercado total que la empresa puede capturar. En el ejemplo, utilizamos un **21%** del **mercado estimado de 46.689**, por lo que el límite de crecimiento es la **cuota de mercado de 9.805 clientes**. Al tener un enfoque de Marketing Selectivo, el esfuerzo de marketing cambia su enfoque de captar una mayor cuota de mercado a transformar un segmento específico de esta cuota de mercado, entendiendo que se obtendría un mayor beneficio de esta conversión. La estrategia se centra en **profundizar las relaciones con este segmento específico**, en lugar de dispersar los esfuerzos en todo el mercado. El éxito se mide por la conversión efectiva de ciclistas ocasionales en socios anuales.\n",
        "    - Sin embargo, es importante destacar que esta cuota de mercado está sujeta a un **ciclo de vida**. Por ejemplo, algunos clientes se mudarán de la ciudad, se enfermarán o fallecerán. **Si no continuamos atrayendo nuevos clientes, la cuota de mercado disminuirá de manera natural**.\n",
        "    \n",
        "    - Al dirigirnos a una **cuota de mercado más pequeña** (como los ciclistas ocasionales) en lugar de considerar todo el mercado disponible, estamos reconociendo una **limitación natural**.\n",
        "    \n",
        "    - Esta limitación puede estar relacionada con la capacidad de convertir a esos ciclistas en socios anuales. La cuota de mercado más pequeña implica que no podemos abarcar a todos los posibles clientes.\n",
        "    \n",
        "    - Como resultado, las ganancias pueden ser **menores** en comparación con un enfoque general que abarque todo el mercado.    \n",
        "    \n",
        "    - Adicionalmente, en un conjunto cerrado de clientes, como la actual cuota de mercado, se vuelve cada vez más difícil lograr que los ciclistas ocasionales se conviertan en miembros anuales. Este fenómeno es similar a lo observado en la teoría de los rendimientos decrecientes o la ley de proporciones variables. Al alcanzar el punto de equilibrio en el límite de crecimiento, la elasticidad de las características intrínseca de los clientes se vuelve inelástica.\n",
        "\n",
        "\n",
        "    \n",
        "3. **Enfoque de Marketing General**:\n",
        "    - En este enfoque, el **límite de crecimiento** está directamente relacionado con la **magnitud total del mercado**. El objetivo es llegar al mayor número posible de clientes potenciales, sin importar su segmentación específica. La estrategia busca maximizar la visibilidad y la participación en el mercado en general. La medición del éxito se basa en métricas como el **alcance total**, la **conciencia de marca** y la **adquisición de nuevos clientes**. En este caso, el tamaño del mercado es de 46.689. Este tamaño establece el límite de crecimiento, y la captación de clientes determinará el ritmo de generación de beneficios para la empresa Cyclistic.\n",
        "    \n",
        "    - En un enfoque general, se busca llegar al **mayor número posible de clientes potenciales**. Aquí, el ritmo del beneficio está más relacionado con la **magnitud total del mercado**.\n",
        "    \n",
        "    - Sin embargo, también debemos considerar que, aunque las ganancias pueden ser mayores en un enfoque general, también enfrentamos una mayor competencia y costos asociados con la expansión a todo el mercado.\n",
        "    \n",
        "4. **Identificación de la Restricción**:\n",
        "    - La TOC enfatiza la importancia de identificar la **restricción** o **cuello de botella** en un sistema. En este caso, la restricción podría ser la cuota de mercado y la capacidad de convertir esta cuota de mercado en beneficios para la empresa.\n",
        "    \n",
        "    - Cuando aplicamos la **Teoría de Restricciones (TOC)**, nuestro enfoque debe estar en **mejorar la utilización de la restricción**. Esto implica diseñar estrategias específicas para maximizar la generación de beneficios. En otras palabras, debemos hacer que la restricción trabaje de manera más intensa y, al mismo tiempo, aumentar su capacidad.\n",
        "\n",
        "**En el contexto de la cuota de mercado, esto se traduce en dos objetivos clave:**\n",
        "\n",
        "1. **Generar más beneficios**: Al optimizar la restricción, buscamos que la cuota de mercado produzca mayores beneficios.\n",
        "2. **Crecer la cuota de mercado**: Al aumentar las dimensiones de la restricción, logramos un mayor beneficio general.\n",
        "\n",
        "Por lo que, Cyclistic deberia estar estratégicamente enfocada en aprovechar al máximo las limitaciones para obtener resultados más favorables.\n",
        "    \n",
        "    - ¿Por qué una estrategia debe prevalecer por encima de la otra y por qué no pueden complementarse ambas estrategias entre sí?\n",
        "    \n",
        "Podemos interpretar que la estrategia del **Enfoque de Marketing Selectivo** es lo que se conoce en el análisis estratégico como una estrategia, y la estrategia del **Enfoque de Marketing General** como Gran Estrategia.     \n",
        "La diferencia entre estrategia y gran estrategia se refiere a la planificación y disposición de recursos y tácticas para alcanzar objetivos específicos. Por otro lado, la gran estrategia es un concepto más amplio que abarca la coordinación de todas las facetas para garantizar el éxito y la supervivencia a largo plazo de la empresa. La estrategia puede ser a corto o medio plazo, mientras que la gran estrategia es una visión a largo plazo. La gran estrategia implica un enfoque global que incluye distintos aspectos, como maximizar la visibilidad y la participación en el mercado en general.\n",
        "\n",
        "    * La Gran Estrategia opera a un nivel abstracto y amplio.\n",
        "    * La estrategia regular se concreta en acciones específicas y técnicas.\n",
        "    \n",
        "*Por lo tanto, no son excluyentes, y una podría apalancar a la otra*.\n",
        "\n"
      ],
      "metadata": {
        "id": "6edBozS6sPhV"
      }
    },
    {
      "cell_type": "markdown",
      "source": [
        "\n",
        "\n",
        "\n"
      ],
      "metadata": {
        "id": "Zysk3LGcsPhV"
      }
    },
    {
      "cell_type": "markdown",
      "source": [
        "<h1 id=\"Conclusiones_del_informe_de_minoría\"\n",
        "    style=\"color: black;\n",
        "           font-size: 23px;\n",
        "           margin-left: -33px\">\n",
        "    &#160;&#160;&#160;&#160;&#160;Conclusiones del informe de minoría  \n",
        "    <a class=\"anchor-link\"\n",
        "       href=\"#Conclusiones_del_informe_de_minoría\"\n",
        "       target=\"_self\"\n",
        "       rel=\" noreferrer nofollow\">\n",
        "        ¶\n",
        "    </a>\n",
        "</h1>"
      ],
      "metadata": {
        "id": "s4cuPLSTsPhW"
      }
    },
    {
      "cell_type": "markdown",
      "source": [
        "**Estrategias de Marketing para Cyclist**\n",
        "\n",
        "1. **Conversión de Ciclistas Ocasionales a Miembros Anuales**:\n",
        "   - La conversión de ciclistas ocasionales en miembros anuales no resulta más beneficiosa que atraer la misma cantidad de nuevos miembros anuales desde el mercado.\n",
        "   - Enfoque: **Enfoque de Marketing General**.\n",
        "\n",
        "2. **Importancia del Mantenimiento y Crecimiento de la Cuota de Mercado**:\n",
        "   - Si no invertimos en el mantenimiento y aumento de nuestra cuota de mercado (estrategia de Enfoque de Marketing General), comprometeremos negativamente nuestra posición en el mercado a lo largo del ciclo de vida de los clientes.\n",
        "   - Esto afectará nuestros beneficios futuros.\n",
        "\n",
        "3. **Complementariedad de Estrategias**:\n",
        "   - Las estrategias de **Enfoque de Marketing Selectivo** y **Enfoque de Marketing General** no deben ser excluyentes. Se recomienda que se complementen entre sí.\n",
        "   - Ambas estrategias pueden coexistir para maximizar los resultados.\n",
        "\n",
        "4. **No Abandonar el Enfoque de Marketing General**:\n",
        "   - No debemos descartar completamente la estrategia de **Enfoque de Marketing General**.\n",
        "   - Aunque es válido centrarse en convertir ciclistas ocasionales en miembros anuales, también debemos considerar el crecimiento absoluto de la cuota de mercado.\n",
        "\n",
        "*En resumen, la combinación inteligente de ambas estrategias nos permitirá alcanzar un equilibrio óptimo y maximizar nuestros beneficios a largo plazo.*\n",
        "\n"
      ],
      "metadata": {
        "id": "ZCCGfV6NsPhW"
      }
    },
    {
      "cell_type": "markdown",
      "source": [
        "<h1 id=\"Recomendaciones_del_informe_de_minoría\"\n",
        "    style=\"color: black;\n",
        "           font-size: 23px;\n",
        "           margin-left: -33px\">\n",
        "    &#160;&#160;&#160;&#160;&#160;Recomendaciones del informe de minoría  \n",
        "    <a class=\"anchor-link\"\n",
        "       href=\"#Recomendaciones_del_informe_de_minoría\"\n",
        "       target=\"_self\"\n",
        "       rel=\" noreferrer nofollow\">\n",
        "        ¶\n",
        "    </a>\n",
        "</h1>"
      ],
      "metadata": {
        "id": "CRs6sKrEsPhW"
      }
    },
    {
      "cell_type": "markdown",
      "source": [
        "1. **Generar más beneficios**: Al optimizar la restricción, buscamos que la cuota de mercado produzca mayores beneficios.\n",
        "2. **Crecer la cuota de mercado**: Al aumentar las dimensiones de la restricción, logramos un mayor beneficio general.\n",
        "​\n",
        "Por lo que, Cyclistic deberia estar estratégicamente enfocada en aprovechar al máximo las limitaciones para obtener resultados más favorables.\n",
        "    \n",
        "    - ¿Por qué una estrategia debe prevalecer por encima de la otra y por qué no pueden complementarse ambas estrategias entre sí?\n",
        "    \n",
        "Podemos interpretar que la estrategia del **Enfoque de Marketing Selectivo** es lo que se conoce en el análisis estratégico como una estrategia, y la estrategia del **Enfoque de Marketing General** como Gran Estrategia.\n",
        "\n",
        "La diferencia entre estrategia y gran estrategia se refiere a la planificación y disposición de recursos y tácticas para alcanzar objetivos específicos. Por otro lado, la gran estrategia es un concepto más amplio que abarca la coordinación de todas las facetas para garantizar el éxito y la supervivencia a largo plazo de la empresa. La estrategia puede ser a corto o medio plazo, mientras que la gran estrategia es una visión a largo plazo. La gran estrategia implica un enfoque global que incluye distintos aspectos, como maximizar la visibilidad y la participación en el mercado en general.\n",
        "​\n",
        "    * La Gran Estrategia opera a un nivel abstracto y amplio.\n",
        "    * La estrategia regular se concreta en acciones específicas y técnicas.\n",
        "    \n",
        "Por lo tanto, no son excluyentes, y una podría apalancar a la otra.\n"
      ],
      "metadata": {
        "id": "nnOGUw3WsPhX"
      }
    },
    {
      "cell_type": "markdown",
      "source": [
        "<h1 id=\"lista_de_referencias\"\n",
        "    style=\"color: black;\n",
        "           font-size: 23px;\n",
        "           margin-left: -33px\">\n",
        "    &#160;&#160;&#160;&#160;&#160;Lista de referencias  \n",
        "    <a class=\"anchor-link\"\n",
        "       href=\"#lista_de_referencias\"\n",
        "       target=\"_self\"\n",
        "       rel=\" noreferrer nofollow\">\n",
        "        ¶\n",
        "    </a>\n",
        "</h1>"
      ],
      "metadata": {
        "id": "pw3WFW9qsPhX"
      }
    },
    {
      "cell_type": "markdown",
      "source": [
        "(1) La Meta: Un proceso de mejora continua\" (1984) Eliyahu M. Goldratt\n",
        "\n",
        "(2) ¡No es suerte!: Construyendo una empresa ganadora\" (1994) Eliyahu M. Goldratt\n",
        "\n",
        "(3) Sitio web del TOC Institute: https://www.tocinstitute.org/about-toc-institute.html\n",
        "\n",
        "(4) QuickFacts for Chicago city, Illinois: https://www.census.gov/quickfacts/fact/table/chicagocityillinois/PST045223\n",
        "\n",
        "(5) LAB_Where_We_Ride_2016.pdf (bikeleague.org)\n",
        "https://bikeleague.org/sites/default/files/LAB_Where_We_Ride_2016.pdf\n",
        "\n",
        "(6) Spring-2014-Quartely-Bike-Count-PDF_RevisedKP.pdf (secureserver.net)\n",
        "https://40f4ba.a2cdn1.secureserver.net/wp-content/uploads/2013/06/Spring-2014-Quartely-Bike-Count-PDF_RevisedKP.pdf\n",
        "\n",
        "(7) El Enfoque de Marketing: Estrategias y Conceptos Clave. https://www.mediummultimedia.com/marketing/cual-es-el-enfoque-de-marketing/.\n",
        "\n",
        "(8) ¿Cuáles son los tipos de enfoques del marketing? - MANUEL LOPEZ. https://www.manuellopez.online/marketing-tradicional/orientaciones-direccion-marketing/.\n",
        "\n",
        "(9) Características del marketing: ¿cuáles son las principales?. https://www.vatoel.com/caracteristicas-del-marketing/.\n",
        "\n",
        "(10) Ventajas y desventajas del enfoque de marketing ... - proscont.com. https://www.proscont.com/ventajas-y-desventajas-enfoque-de-marketing-de-producto/.\n",
        "\n",
        "(11) Los 10 enfoques de la mercadotecnia (con ejemplos) - Blog de HubSpot. https://blog.hubspot.es/marketing/enfoques-de-la-mercadotecnia.\n",
        "\n",
        "(12) De la estrategia a la generación de valor de Beltran Enrique Malave Gonzalez. https://www.teseopress.com/delaestrategiaalageneraciondevalor/\n",
        "\n",
        "(13) ¿Qué es la gran estrategia? de Javier Jordán.\n",
        "https://global-strategy.org/que-es-gran-estrategia/."
      

Enlaces del estudio de caso 2023_GDA-Capstone-Cyclistic_Boris-Gonzalez y presentación Cyclistic

LinkedIn: https://www.linkedin.com/pulse/case-study-cyclistic-chicago-2023-gonz%2525C3%2525A1lez-montilla-h0pyc/?trackingId=SE8br6MPREym%2BBFCs09CJw%3D%3D

Colaboratory: https://colab.research.google.com/drive/1LIk8oq6iwgShDIhM-BjMZ-YzjvzPvp4z#scrollTo=oDT2RlMzsPhP

Github: https://github.com/BorisBGonzalez/Entrgas/blob/main/TP1/2023_google_capstone_cyclistic_boris_gonzalez_(1).ipynb

Medium https://medium.com/@ing.esp.pmborisgonzalez/2023-google-capstone-cyclistic-boris-gonzalez-91058f29b19a

Kaggle: https://www.kaggle.com/code/borisgonzalez/2023-gda-capstone-cyclistic-boris-gonzalez

Presentaciones: https://docs.google.com/presentation/d/1LbEdwgaqS8cr4HY3VPe7wfDMT3qzQuIrEcKdjGyGasM/edit#slide=id.g2da50db2872_0_0
,
      "metadata": {
        "id": "efJcA3LjsPhY"
      }
    }
  ]
}
